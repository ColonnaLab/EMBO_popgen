{
 "cells": [
  {
   "cell_type": "markdown",
   "metadata": {
    "slideshow": {
     "slide_type": "slide"
    }
   },
   "source": [
    "![ICL](Images/imperiallogo.jpeg)\n",
    "\n",
    "# Introduction to Bayesian methods and Approximate Bayesian Computation\n"
   ]
  },
  {
   "cell_type": "markdown",
   "metadata": {
    "slideshow": {
     "slide_type": "slide"
    }
   },
   "source": [
    "### Intended Learning Outcomes\n",
    "\n",
    "At the end of this __session__ you will be able to:\n",
    "* critically discuss advantages (and disadvantages) of Bayesian data analysis,\n",
    "* illustrate Bayes’ Theorem and concepts of prior and posterior distributions,\n",
    "* implement simple Bayesian methods, including approximated techniques."
   ]
  },
  {
   "cell_type": "markdown",
   "metadata": {
    "slideshow": {
     "slide_type": "skip"
    }
   },
   "source": [
    "### the eyes and the brain"
   ]
  },
  {
   "cell_type": "markdown",
   "metadata": {
    "slideshow": {
     "slide_type": "slide"
    }
   },
   "source": [
    "\"You know, guys? I have just seen the Loch Ness monster in the Gulf of Naples! Can you believe that?\"\n",
    "\n",
    "<img src=\"Images/LochNessMonster.jpg\" width=\"300\" height=\"300\" />\n",
    "\n",
    "What does this information tell you about the existence of Nessie?"
   ]
  },
  {
   "cell_type": "markdown",
   "metadata": {
    "slideshow": {
     "slide_type": "skip"
    }
   },
   "source": [
    "In the classic frequentist, or likelihoodist, approach you make some inferences based on all the data that you have observed.\n",
    "The only data that you observe here is me telling you whether or not I saw Nessie.\n",
    "In other words, your inference on whether Nessie exists (in Naples!) or not will be solely based on such observations."
   ]
  },
  {
   "cell_type": "markdown",
   "metadata": {
    "slideshow": {
     "slide_type": "fragment"
    }
   },
   "source": [
    "Let's make it slightly more complicated and imagine that three lecturers didn't tell you that they saw Nessie while only one lecturer told you that they saw Nessie. Let's assume that the likelihood function is the same for each observer/lecturer $l$.\n",
    "\n",
    "What is the maximum likelihood estimate for Nessie to exist? What is the result of a statistical test?\n"
   ]
  },
  {
   "cell_type": "code",
   "execution_count": 1,
   "metadata": {},
   "outputs": [
    {
     "data": {
      "image/png": "[encoded data removed]",
      "text/plain": [
       "plot without title"
      ]
     },
     "metadata": {
      "image/png": {
       "height": 420,
       "width": 420
      }
     },
     "output_type": "display_data"
    }
   ],
   "source": [
    "# observations: Monster Monster Fish Monster\n",
    "\n",
    "thetas <- seq(0,1,0.01)\n",
    "\n",
    "# likelihood\n",
    "like <- c()\n",
    "for (theta in thetas) like <- c(like, (theta^3)*(1-theta)^1)\n",
    "\n",
    "plot(thetas,like, type=\"l\")\n"
   ]
  },
  {
   "cell_type": "code",
   "execution_count": 2,
   "metadata": {},
   "outputs": [
    {
     "name": "stdout",
     "output_type": "stream",
     "text": [
      "estimate:  0.75"
     ]
    }
   ],
   "source": [
    "# MLE\n",
    "cat(\"estimate: \", thetas[which.max(like)])"
   ]
  },
  {
   "cell_type": "code",
   "execution_count": 3,
   "metadata": {},
   "outputs": [
    {
     "data": {
      "text/html": [
       "13.5782990731486"
      ],
      "text/latex": [
       "13.5782990731486"
      ],
      "text/markdown": [
       "13.5782990731486"
      ],
      "text/plain": [
       "[1] 13.5783"
      ]
     },
     "metadata": {},
     "output_type": "display_data"
    },
    {
     "data": {
      "text/html": [
       "0.000228815481127853"
      ],
      "text/latex": [
       "0.000228815481127853"
      ],
      "text/markdown": [
       "0.000228815481127853"
      ],
      "text/plain": [
       "[1] 0.0002288155"
      ]
     },
     "metadata": {},
     "output_type": "display_data"
    }
   ],
   "source": [
    "# LRT: H0: theta<=0.05; H1: theta>0.05\n",
    "tD <- 2*log(max(like)/like[6])\n",
    "tD\n",
    "# p-value\n",
    "1-pchisq(tD,1)\n"
   ]
  },
  {
   "cell_type": "markdown",
   "metadata": {},
   "source": [
    "What do you conclude about the existence of Nessie using the likelihood approach?"
   ]
  },
  {
   "cell_type": "markdown",
   "metadata": {
    "slideshow": {
     "slide_type": "slide"
    }
   },
   "source": [
    "Imagine that in the likelihood approach we use only one visual (or auditive) organ,\n",
    "i.e. our eyes (or ears).\n",
    "<img src=\"Images/EyeOnly.png\" width=\"800\" height=\"800\" />"
   ]
  },
  {
   "cell_type": "markdown",
   "metadata": {
    "slideshow": {
     "slide_type": "fragment"
    }
   },
   "source": [
    "However, in real life, we take many decisions based not solely on what we observe but\n",
    "also on some believes of ours (sometines unfortunately)."
   ]
  },
  {
   "cell_type": "markdown",
   "metadata": {
    "slideshow": {
     "slide_type": "slide"
    }
   },
   "source": [
    "We usually use another organ, the brain, to make inferences on the probability of a particular\n",
    "event to occur.\n",
    "<img src=\"Images/EyeBrain.png\" width=\"800\" height=\"800\" />"
   ]
  },
  {
   "cell_type": "markdown",
   "metadata": {
    "slideshow": {
     "slide_type": "notes"
    }
   },
   "source": [
    "Note that in this cartoon the brain is \"blind\", in the sense that it does not observe the data\n",
    "(no arrow pointing to the eye) but its inferences on the event are based on its own believes."
   ]
  },
  {
   "cell_type": "markdown",
   "metadata": {
    "slideshow": {
     "slide_type": "slide"
    }
   },
   "source": [
    "Back to the Loch Ness monster case, we can clearly have some believes whether or not Nessie\n",
    "exists not only because I told you I saw it in the campus.\n",
    "This \"belief\" expresses the probability of Nessie existing $p(N)$ unconditional of the data.\n",
    "\n",
    "Our intuition is that the probability of Nessie existing is somehow a joint product of the likelihood (the eyes) and the belief (the brain).\n",
    "Therefore, $p(N|D) \\propto p(D|N)p(N)$."
   ]
  },
  {
   "cell_type": "markdown",
   "metadata": {
    "slideshow": {
     "slide_type": "subslide"
    }
   },
   "source": [
    "How can we define $p(N)$?\n",
    "This depends on our blind \"belief\" function."
   ]
  },
  {
   "cell_type": "code",
   "execution_count": 4,
   "metadata": {},
   "outputs": [
    {
     "name": "stdout",
     "output_type": "stream",
     "text": [
      "point estimate: 0.67"
     ]
    },
    {
     "data": {
      "image/png": "[encoded data removed]",
      "text/plain": [
       "plot without title"
      ]
     },
     "metadata": {
      "image/png": {
       "height": 420,
       "width": 420
      }
     },
     "output_type": "display_data"
    }
   ],
   "source": [
    "# skeptical belief function\n",
    "belief1 <- 1/thetas\n",
    "belief1[1] <- NA\n",
    "belief1 <- belief1/sum(belief1, na.rm=T)\n",
    "\n",
    "par(mfrow=c(2,3))\n",
    "plot(thetas,like,type=\"l\")\n",
    "plot(thetas,belief1,type=\"l\")\n",
    "plot(thetas,belief1*like,type=\"l\")\n",
    "cat(\"point estimate:\", thetas[which.max(belief1*like)])"
   ]
  },
  {
   "cell_type": "code",
   "execution_count": 5,
   "metadata": {},
   "outputs": [
    {
     "name": "stdout",
     "output_type": "stream",
     "text": [
      "point estimate: 0.01"
     ]
    },
    {
     "data": {
      "image/png": "[encoded data removed]",
      "text/plain": [
       "plot without title"
      ]
     },
     "metadata": {
      "image/png": {
       "height": 420,
       "width": 420
      }
     },
     "output_type": "display_data"
    }
   ],
   "source": [
    "# very skeptical belief function\n",
    "belief2 <- 1/thetas^3\n",
    "belief2[1] <- NA\n",
    "belief2 <- belief2/sum(belief2, na.rm=T)\n",
    "\n",
    "par(mfrow=c(2,3))\n",
    "plot(thetas,like,type=\"l\")\n",
    "plot(thetas,belief2,type=\"l\")\n",
    "plot(thetas,belief2*like,type=\"l\")\n",
    "cat(\"point estimate:\", thetas[which.max(belief2*like)])"
   ]
  },
  {
   "cell_type": "markdown",
   "metadata": {
    "slideshow": {
     "slide_type": "notes"
    }
   },
   "source": [
    "Note that these are not proper probabilities (we will see later how to calculate proper probabilities using \"belief\" functions).\n",
    "We can deduct how the choice of a different \"belief\" function can point us to either different conclusions or confidence levels."
   ]
  },
  {
   "cell_type": "markdown",
   "metadata": {
    "slideshow": {
     "slide_type": "slide"
    }
   },
   "source": [
    "In statistics, the \"belief\" function (e.g. $p(N)$) is called _prior probability_ and\n",
    "the joint product of the likelihood ($p(D|N)$) and the prior ($p(N)$) is proportional to\n",
    "the _posterior probability_ ($p(N|D)$).\n",
    "\n",
    "The use of posterior probabilities for inferences is called Bayesian statistics."
   ]
  },
  {
   "cell_type": "markdown",
   "metadata": {
    "slideshow": {
     "slide_type": "slide"
    }
   },
   "source": [
    "### What\n",
    "\n",
    "Bayesian statistics is an alternative to classical frequentist approaches, where\n",
    "maximum likelihood estimates (MLE) and hypothesis testing based on _p_-values\n",
    "are often used.\n",
    "\n",
    "However, there is no definite division between frequentists and Bayesians as, in\n",
    "many modern applications, the approach taken is eclectic."
   ]
  },
  {
   "cell_type": "markdown",
   "metadata": {
    "slideshow": {
     "slide_type": "slide"
    }
   },
   "source": [
    "Imagine you have just submitted a manuscript for publication to a\n",
    "peer-reviewed journal.\n",
    "You want to assess its probability of being accepted and published.\n",
    "\n",
    "<center><img src=\"Images/journals.png\" width=\"400\" height=\"400\" /><center>"
   ]
  },
  {
   "cell_type": "markdown",
   "metadata": {
    "slideshow": {
     "slide_type": "notes"
    }
   },
   "source": [
    "This assessment may use, for instance, the information regarding the journal's acceptance rate, the quality of the study and its relevance to the journal's scope."
   ]
  },
  {
   "cell_type": "markdown",
   "metadata": {
    "slideshow": {
     "slide_type": "fragment"
    }
   },
   "source": [
    "Your manuscript is accepted. What is the probability that your next manuscript will be accepted?"
   ]
  },
  {
   "cell_type": "markdown",
   "metadata": {
    "slideshow": {
     "slide_type": "notes"
    }
   },
   "source": [
    "You had one success over one trial. Therefore, the probability is 100%.\n",
    "However, it looks clear that this estimate is somehow \"wrong\" as it is based on a small sample size and we know that the acceptance rate is anyway smaller than 100%.\n",
    "\n",
    "You can think of the journal's acceptance rate (e.g. 20%) as our prior information.\n",
    "You are then tempted to set a probability of being accepted smaller than 100%.\n",
    "By doing so you are behaving as a Bayesian statistician, as you are adjusting the\n",
    "direct estimate in light of a prior information.\n",
    "Bayesian statistics have the ability to incorporate prior information into an analysis."
   ]
  },
  {
   "cell_type": "markdown",
   "metadata": {
    "slideshow": {
     "slide_type": "slide"
    }
   },
   "source": [
    "Suppose you are conducting an experiment of measuring the biodiversity\n",
    "of some species on particular rock shores in Scotland.\n",
    "Specifically, you are collecting the number of different species of algae in 4 different locations across time, over 3 years.\n",
    "Unfortunately, something happened in 2016 for Location B and you do not have data reported."
   ]
  },
  {
   "cell_type": "markdown",
   "metadata": {
    "slideshow": {
     "slide_type": "subslide"
    }
   },
   "source": [
    "\n",
    "| Year | Loc. A | Loc. B | Loc. C | Loc. D |\n",
    "| ---- | ------ | ------ | ------ | ------ |\n",
    "| 2015 | 45     |   54   | 47     |   52   |\n",
    "| 2016 | 41     | n.a.   | 43     | 45     |\n",
    "| 2017 | 32     | 38     | 37     | 35     |\n"
   ]
  },
  {
   "cell_type": "markdown",
   "metadata": {
    "slideshow": {
     "slide_type": "fragment"
    }
   },
   "source": [
    "What is a reasonable value for the missing entry? How about 100?"
   ]
  },
  {
   "cell_type": "markdown",
   "metadata": {
    "slideshow": {
     "slide_type": "notes"
    }
   },
   "source": [
    "Perhaps 100 is too high since the numbers surrounding the entry may point towards a value of around 45.\n",
    "We could fit a model or take an average to impute the missing data.\n",
    "\n",
    "Now assume that you have access to some data for Location B in 2016.\n",
    "Specifically, you have partial data where you could retrieve biodiversity levels only for a fifth $(1/5)$  of Location B for 2016.\n",
    "You extrapolate such partial value to obtain an estimate which turns out to be 100.\n",
    "Are you willing now to impute missing data with 100, extrapolated from some partial coverage, while before you thought this number was much higher than expected?"
   ]
  },
  {
   "cell_type": "markdown",
   "metadata": {
    "slideshow": {
     "slide_type": "notes"
    }
   },
   "source": [
    "A more intuitive solution would be to take a sort of weighted average between this direct\n",
    "(but uncertain) measurement (100) and the indirect estimate you used (45, the average of surrouding cells)\n",
    "when there was no information available.\n",
    "\n",
    "Finally, imagine that you can retrieve biodiversity values for half $(1/2)$ of Location B in 2016.\n",
    "If so, then you would like to \"weight\" more such observation than to the previous case where only\n",
    "a fifth of the area was available.\n",
    "\n",
    "Bayesian statistics formalises such integration between direct and indirect information."
   ]
  },
  {
   "cell_type": "markdown",
   "metadata": {
    "slideshow": {
     "slide_type": "slide"
    }
   },
   "source": [
    "* The _frequentist_ is based on imagining repeated sampling from a particular\n",
    " model, which defines the probability of the observed data conditional on unknown parameters.\n",
    "* The _likelihoodist_ uses the sampling model as the frequentists but all\n",
    " inferences are based on the observed data only.\n",
    "* The _Bayesian_ requires a sampling model (the likelihood) and a prior distribution\n",
    "  on all unknown parameters. The prior and the likelihood are used to compute the\n",
    "  conditional distribution of the unknown parameters given the observed data."
   ]
  },
  {
   "cell_type": "markdown",
   "metadata": {
    "slideshow": {
     "slide_type": "subslide"
    }
   },
   "source": [
    "* The _Empirical Bayesian_ (EB) allows the observed data to contribute to\n",
    "  defining the prior distribution.\n",
    "<img src=\"Images/EyeBrainEB.png\" width=\"800\" height=\"800\" />"
   ]
  },
  {
   "cell_type": "markdown",
   "metadata": {
    "slideshow": {
     "slide_type": "slide"
    }
   },
   "source": [
    "To put it in a different perspective, assuming $D$ is the data and $\\theta$ is your unknown parameter,\n",
    "the frequentist approach conditions on parameters and integrates over the data, $p(D|\\theta)$.\n",
    "\n",
    "On the other hand, the Bayesian approach conditions on the data and integrates over the\n",
    "parameters, $p(\\theta|D)$."
   ]
  },
  {
   "cell_type": "markdown",
   "metadata": {
    "slideshow": {
     "slide_type": "notes"
    }
   },
   "source": [
    "Therefore, in Bayesian statistics we derive proper probability distributions of our parameters\n",
    "of interest, rather than deriving a point estimate.\n",
    "In other words, in Bayesian statistics a probability is assigned to a hypothesis, while under a frequentist inference, a hypothesis is tested without being assigned to a probability of occurring.\n",
    "\n",
    "Unlike likelihoodist, Bayesian inferences can \"accept\" the null hypothesis rather\n",
    "than \"fail to reject\" it.\n",
    "Bayesian procedures can also impose parsimony in model choice and avoid further\n",
    "testing for multiple comparisons."
   ]
  },
  {
   "cell_type": "markdown",
   "metadata": {
    "slideshow": {
     "slide_type": "slide"
    }
   },
   "source": [
    "### Why\n",
    "\n",
    "Bayesian methods for data analysis are used because:\n",
    "* of the increased computing power over the last years;\n",
    "* they have good frequentist properties;\n",
    "* their answers are more easily interpretable by non-specialists;\n",
    "* they are already implemented in software packages.\n"
   ]
  },
  {
   "cell_type": "markdown",
   "metadata": {
    "slideshow": {
     "slide_type": "fragment"
    }
   },
   "source": [
    "Bayesian statistics is used in many topics in life sciences, such as genetics (e.g. fine-mapping of disease-susceptibility genes), ecology (e.g. agent-based models), evolution (e.g. inference of phylogenetic trees), bioinformatics (e.g. base calling)."
   ]
  }
 ],
 "metadata": {
  "celltoolbar": "Slideshow",
  "kernelspec": {
   "display_name": "R",
   "language": "R",
   "name": "ir"
  },
  "language_info": {
   "codemirror_mode": "r",
   "file_extension": ".r",
   "mimetype": "text/x-r-source",
   "name": "R",
   "pygments_lexer": "r",
   "version": "4.1.2"
  }
 },
 "nbformat": 4,
 "nbformat_minor": 4
}
