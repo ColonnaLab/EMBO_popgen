{
 "cells": [
  {
   "cell_type": "markdown",
   "metadata": {
    "slideshow": {
     "slide_type": "slide"
    }
   },
   "source": [
    "### Intended Learning Outcomes\n",
    "\n",
    "At the end of this part you will be able to:\n",
    "* describe the pros and cons of using different priors (e.g. elicited, conjugate, ...),\n",
    "* evaluate the interplay between prior and posterior distributions,\n",
    "* calculate several quantities of interest from posterior distributions,\n",
    "* apply Bayesian inference to estimate population variation data."
   ]
  },
  {
   "cell_type": "markdown",
   "metadata": {
    "slideshow": {
     "slide_type": "notes"
    }
   },
   "source": [
    "One of the main feature of Bayesian statistics is that we assign probability distributions not only to\n",
    "data variables ${y}$ but also to parameters ${\\theta}$.\n",
    "We quantify whatever feelings or believes we have about ${\\theta}$ before observing ${y}$."
   ]
  },
  {
   "cell_type": "markdown",
   "metadata": {
    "slideshow": {
     "slide_type": "slide"
    }
   },
   "source": [
    "Using Bayes' theorem, we obtain a posterior distribution of ${\\theta}$, a blend of the information between the data and the prior.\n",
    "\n",
    "How can we decide which prior distribution is more appropriate in our study?"
   ]
  },
  {
   "cell_type": "markdown",
   "metadata": {
    "slideshow": {
     "slide_type": "fragment"
    }
   },
   "source": [
    "Prior distributions can\n",
    "* be derived from past information or personal opinions from experts;\n",
    "* be distributed as familiar distribution functions;\n",
    "* bear little information."
   ]
  },
  {
   "cell_type": "markdown",
   "metadata": {
    "slideshow": {
     "slide_type": "slide"
    }
   },
   "source": [
    "### Elicited priors\n",
    "\n",
    "The simplest approach to specify $\\pi(\\theta)$ is to define the collection of $\\theta$ which are possible.\n",
    "\n",
    "Then one can assign some probability to each one of these cases and make sure that they sum to $1$.\n",
    "\n",
    "If $\\theta$ is discrete, this looks like a natural approach."
   ]
  },
  {
   "cell_type": "markdown",
   "metadata": {
    "slideshow": {
     "slide_type": "notes"
    }
   },
   "source": [
    "Imagine that your prior distribution describes the number of kits a mother rabbit will have in the next litter.\n",
    "\n",
    "Perhaps, you want to make some inference on the biological mechanisms for the number of kits.\n",
    "In this case you may have a likelihood function relating some observations $\\vec{y}$ (e.g. genetic or environmental markers) to the number of kits $\\theta$.\n",
    "\n",
    "$\\theta$ is clearly discrete and you may have some past information on its distribution from the [literature](www.reference.com/pets-animals)."
   ]
  },
  {
   "cell_type": "markdown",
   "metadata": {
    "slideshow": {
     "slide_type": "slide"
    }
   },
   "source": [
    "![](Images/Rabbits.jpeg)"
   ]
  },
  {
   "cell_type": "markdown",
   "metadata": {
    "slideshow": {
     "slide_type": "fragment"
    }
   },
   "source": [
    "\"Rabbits can have anywhere from one to 14 babies, also called kits, in one litter. An average litter size is 6. \n",
    "Hereditary and environmental factors play a role in the number of kits born in a litter.\""
   ]
  },
  {
   "cell_type": "markdown",
   "metadata": {
    "slideshow": {
     "slide_type": "subslide"
    }
   },
   "source": [
    "\\begin{equation}\n",
    "    \\pi(\\theta=0)=\\pi(\\theta>14)=0\n",
    "\\end{equation}\n",
    "\n",
    "If it is more probable that a mother will have $6$ kits, as this is the average litter size based on past information, then\n",
    "\\begin{equation}\n",
    "    \\pi(\\theta=2)<\\pi(\\theta=6)>\\pi(\\theta=10)\n",
    "\\end{equation}\n",
    "\n",
    "We must ensure that\n",
    "\\begin{equation}\n",
    "    \\sum_{i=1}^{14} \\pi(\\theta=i) = 1\n",
    "\\end{equation}"
   ]
  },
  {
   "cell_type": "markdown",
   "metadata": {
    "slideshow": {
     "slide_type": "notes"
    }
   },
   "source": [
    "On the other hand, it $\\theta$ is continuous, a simple solution would be to discretise the prior distribution by assigning masses to intervals.\n",
    "In other words, you create a histogram prior for $\\theta$.\n",
    "\n",
    "Imagine that your prior distribution specifies the recorded temperature in hot springs\n",
    "at Lassen Volcanic National Park.\n",
    "Specifically, you are interested in relating the temperature of different pools at Bumpass\n",
    "Hell with the occurrence of certain extremophile micro-organisms, capable of surviving in extremely hot environments.\n",
    "\n",
    "You want to assign a prior distribution for the pool temperature, $\\theta$.\n",
    "Clearly $\\theta$ is continuous."
   ]
  },
  {
   "cell_type": "markdown",
   "metadata": {
    "slideshow": {
     "slide_type": "slide"
    }
   },
   "source": [
    "<img src=\"Images/BumpassHell.jpeg\" width=\"600\" height=\"600\" />"
   ]
  },
  {
   "cell_type": "markdown",
   "metadata": {
    "slideshow": {
     "slide_type": "fragment"
    }
   },
   "source": [
    "From past observations, we know that pool temperatures, $\\theta$ have a range of $(80,110)$ with an average of $88$, in Celsius degrees."
   ]
  },
  {
   "cell_type": "markdown",
   "metadata": {
    "slideshow": {
     "slide_type": "subslide"
    }
   },
   "source": [
    "A simple solution would be to derive a prior histogram of $\\theta$, as\n",
    "\\begin{equation}\n",
    "    \\pi(80 \\leq \\theta < 85) < \\pi(85 \\leq \\theta < 90) > \\pi(90 \\leq \\theta < 95)\n",
    "\\end{equation}\n",
    "\n",
    "Again, you have to make sure that all these probabilities sum to $1$.\n",
    "\n",
    "Furthermore, it is important that the histogram is sufficiently wide, as the posterior will have support only for values that are included in the prior."
   ]
  },
  {
   "cell_type": "markdown",
   "metadata": {
    "slideshow": {
     "slide_type": "subslide"
    }
   },
   "source": [
    "Alternatively, we may assume that the prior distribution for $\\theta$ belongs to a parametric distributional family $\\pi(\\theta|\\nu)$.\n",
    "\n",
    "Here we choose $\\nu$ so that $\\pi(\\theta|\\nu)$ closely matches our elicited beliefs.\n",
    "\n",
    "This approach has several advantages:"
   ]
  },
  {
   "cell_type": "markdown",
   "metadata": {
    "slideshow": {
     "slide_type": "fragment"
    }
   },
   "source": [
    "* it reduces the effort to the elicitee (you don't have to decide a probability for each value $\\theta$ can have);\n",
    "* it overcomes the finite support problem (as in the case of the histogram);\n",
    "* it may lead to simplifications in the computation of the posterior (as we will see later on)."
   ]
  },
  {
   "cell_type": "markdown",
   "metadata": {
    "slideshow": {
     "slide_type": "fragment"
    }
   },
   "source": [
    "A limitation of this approach is that it would be impossible to find a distribution that perfectly matches the elicitee's beliefs."
   ]
  },
  {
   "cell_type": "markdown",
   "metadata": {
    "slideshow": {
     "slide_type": "notes"
    }
   },
   "source": [
    "For instance, the prior for temperatures could be Normally distributed as $N(\\mu,\\sigma^2)$ bounded at $(80,110)$, that is\n",
    "\n",
    "\\begin{align}\n",
    "        \\pi(\\theta) &= 0 & \\text{for } \\theta < 80 \\text{ or } \\theta > 110 \\\\\n",
    "        \\pi(\\theta) &= N(\\mu,\\sigma^2) & \\text{for } 80 \\leq \\theta \\leq 110\n",
    "\\end{align}\n",
    "\n",
    "with $\\mu=88$ and $\\sigma^2=10$."
   ]
  },
  {
   "cell_type": "code",
   "execution_count": 1,
   "metadata": {
    "slideshow": {
     "slide_type": "subslide"
    }
   },
   "outputs": [
    {
     "data": {
      "image/png": "[encoded data removed]",
      "text/plain": [
       "Plot with title “pi(theta)”"
      ]
     },
     "metadata": {
      "image/png": {
       "height": 420,
       "width": 420
      }
     },
     "output_type": "display_data"
    }
   ],
   "source": [
    "## elicited prior\n",
    "mu <- 88\n",
    "sigma2 <- 10\n",
    "x <- seq(80,110,0.1)\n",
    "plot(x=x, dnorm(x=x, mean=mu, sd=sqrt(sigma2)), type=\"l\", lty=1, ylab=\"Density\",\n",
    "    xlab=expression(theta), main=expression(pi(theta)))"
   ]
  },
  {
   "cell_type": "markdown",
   "metadata": {
    "slideshow": {
     "slide_type": "notes"
    }
   },
   "source": [
    "Note that this distribution is not defined outside the interval $(80,110)$.\n",
    "As such, the posterior distribution will not have mass outside this interval.\n",
    "Overconfidence may result into failing to condition on events outside the range of personal experience or previous observations.\n",
    "For instance, the fact that a temperature lower than $80$ has never been observed may be better represented by setting a small (but greater than 0) probability of occurring."
   ]
  },
  {
   "cell_type": "markdown",
   "metadata": {
    "slideshow": {
     "slide_type": "slide"
    }
   },
   "source": [
    "As a rule of thumb, for elicited priors, it is recommended to focus on quantiles close to the middle of the distribution (e.g. the $50^{th}$, $25^{th}$ and $75^{th}$) rather than extreme quantiles (e.g. the $95^{th}$ and $5^{th}$).\n",
    "You should also assess the symmetry of your prior.\n",
    "\n",
    "Elicited priors can be updated and reassessed as new information is available.\n",
    "\n",
    "They are very useful for experimental design where some ideas on the nature of the studied system is given in input."
   ]
  },
  {
   "cell_type": "markdown",
   "metadata": {
    "slideshow": {
     "slide_type": "slide"
    }
   },
   "source": [
    "### Conjugate priors\n",
    "\n",
    "When choosing a prior distribution $\\pi(\\theta|\\nu)$ some family distributions will make the calculation of posterior distributions more convenient than others will do.\n",
    "\n",
    "It is possible to select a member of that family that is _conjugate_ with the likelihood $f(y|\\theta)$, so that the posterior distribution $p(\\theta|y)$ belongs to the same distributional family as the prior."
   ]
  },
  {
   "cell_type": "markdown",
   "metadata": {
    "slideshow": {
     "slide_type": "notes"
    }
   },
   "source": [
    "Suppose we are interested in modelling the arrival of herds of elephants to a specific water pond in the savannah in a day during the migratory season.\n",
    "We may be interested in this estimate for tracking migratory routes or assessing population sizes."
   ]
  },
  {
   "cell_type": "markdown",
   "metadata": {
    "slideshow": {
     "slide_type": "slide"
    }
   },
   "source": [
    "<img src=\"Images/Elephants.jpeg\" width=\"600\" height=\"600\" />\n",
    "\n",
    "$Y$ is the count of distinct elephant herds or groups (not the total number of elephants!) arriving at the pool in a day during the migration season (not during the whole year!)."
   ]
  },
  {
   "cell_type": "markdown",
   "metadata": {
    "slideshow": {
     "slide_type": "subslide"
    }
   },
   "source": [
    "A Poisson distribution has a natural interpretation to model arrival rates for discrete variables.\n",
    "\n",
    "Indeed, the Poisson distribution is a discrete probability distribution that gives the probability of a given number of events occurring in a fixed interval of time (or space) when such events occur independently and with a known average rate."
   ]
  },
  {
   "cell_type": "markdown",
   "metadata": {
    "slideshow": {
     "slide_type": "subslide"
    }
   },
   "source": [
    "The Poisson distribution is an appropriate model under certain assumptions:\n",
    "1. $Y$ is the number of times an event occurs in an interval and it can take values any positive integer values including 0;\n",
    "2. the occurrence of one event does not affect the probability that a second event will occur (i.e. events occur independently);\n",
    "3. the rate at which events occur is constant (it cannot be higher in some intervals and lower in other intervals);\n",
    "4. two events cannot occur at exactly the same instant;\n",
    "5. the probability of an event in an interval is proportional to the length of the interval."
   ]
  },
  {
   "cell_type": "markdown",
   "metadata": {
    "slideshow": {
     "slide_type": "notes"
    }
   },
   "source": [
    "Condition 1 is clearly met in our case.\n",
    "Conditions 2 and 4 assumes that different herds do not follow each other (perhaps\n",
    "by taking different routes).\n",
    "For the sake of illustrating this distribution, we will assume this to be true.\n",
    "You can see that if $Y$ were the number of elephants (not the herds) then condition 2 is\n",
    "not met as elephants tend to migrate in group.\n",
    "Condition 3 is met when we focus our analysis on the annual period where we expect\n",
    "to see herds, not during the whole year.\n",
    "Condition 5 is easily met, as the number of herds arriving in a week is likely to be\n",
    "higher than the number in a day.\n",
    "If we assume that all these conditions are true, then $Y$, the number of elepehant herds\n",
    "arriving at a pool, is a Poisson random variable."
   ]
  },
  {
   "cell_type": "markdown",
   "metadata": {
    "slideshow": {
     "slide_type": "slide"
    }
   },
   "source": [
    "The event $Y$ can occur $0, 1, 2, ...$ times in the interval.\n",
    "The average number of events in an interval is the parameter $\\theta$.\n",
    "\n",
    "The probability of observing $y$ events in an interval is given by\n",
    "\\begin{equation}\n",
    "    f(y|\\theta) = \\frac{e^{-\\theta}\\theta^y}{y!} \\text{, } y \\in \\{0, 1, 2, ...\\} \n",
    "        \\text{, } \\theta>0\n",
    "\\end{equation}"
   ]
  },
  {
   "cell_type": "markdown",
   "metadata": {
    "slideshow": {
     "slide_type": "notes"
    }
   },
   "source": [
    "Here $\\theta$ is the event rate, or the rate parameter.\n",
    "\n",
    "Note that the equation above is a probability mass function (pmf), as it is defined only for discrete values of $y$.\n",
    "\n",
    "Note that the parameter of the Poisson distribution is typically written as $\\lambda$."
   ]
  },
  {
   "cell_type": "markdown",
   "metadata": {
    "slideshow": {
     "slide_type": "fragment"
    }
   },
   "source": [
    "This is our __likelihood__ distribution and, once we know $\\theta$, then the whole distribution is defined.\n",
    "\n",
    "$\\theta$ has to be positive (not necessarily an integer) and $y$ is a positive integer."
   ]
  },
  {
   "cell_type": "markdown",
   "metadata": {
    "slideshow": {
     "slide_type": "subslide"
    }
   },
   "source": [
    "Assuming that the rate $\\theta$ is set to $4$ (4 herds per day during migration season), then:\n",
    "\\begin{align}\n",
    "    P(y=0) &= \\frac{e^{-4}4^0}{0!} = e^{-4} = 0.0183\\\\\n",
    "    P(y=1) &= \\frac{e^{-4}4^1}{1!} = ... = 0.0733\\\\\n",
    "    P(y=2) &= \\frac{e^{-4}4^2}{2!} = ... = 0.147\n",
    "\\end{align}"
   ]
  },
  {
   "cell_type": "code",
   "execution_count": 2,
   "metadata": {
    "slideshow": {
     "slide_type": "subslide"
    }
   },
   "outputs": [
    {
     "data": {
      "image/png": "[encoded data removed]",
      "text/plain": [
       "Plot with title “theta ~ \"=\" ~ theta”"
      ]
     },
     "metadata": {
      "image/png": {
       "height": 420,
       "width": 420
      }
     },
     "output_type": "display_data"
    }
   ],
   "source": [
    "## Poisson distribution\n",
    "theta <- 4\n",
    "y <- seq(0, 20, 1)\n",
    "plot(x=y, dpois(x=y, lambda=theta), type=\"p\", lty=1, xlab=expression(y),\n",
    "    main=expression(theta~\"=\"~theta), ylab=expression(p(Y~\"=\"~y~\"|\"~theta)))"
   ]
  },
  {
   "cell_type": "markdown",
   "metadata": {
    "slideshow": {
     "slide_type": "notes"
    }
   },
   "source": [
    "As you can see, the highest mass is towards 4 and above 12 the probability is very close to 0.\n",
    "You may recall that a Poisson distribution has expected value and variance equal to the rate parameter.\n",
    "Note that we have some non-zero probability of observing 0 events."
   ]
  },
  {
   "cell_type": "markdown",
   "metadata": {
    "slideshow": {
     "slide_type": "slide"
    }
   },
   "source": [
    "We now need to define a __prior__ distribution for $\\theta$ having support for positive values.\n",
    "\n",
    "A reasonable choice is given by the Gamma distribution\n",
    "\\begin{equation}\n",
    "    \\pi(\\theta) = \\frac{\\theta^{\\alpha-1}e^{-\\theta/\\beta}}{\\Gamma(\\alpha)\\beta^\\alpha} \n",
    "    \\text{, } \\theta>0 \\text{, } \\alpha>0 \\text{, } \\beta>0\n",
    "\\end{equation}\n",
    "$\\alpha$ is the shape parameter and $\\beta$ is the rate parameter."
   ]
  },
  {
   "cell_type": "markdown",
   "metadata": {
    "slideshow": {
     "slide_type": "fragment"
    }
   },
   "source": [
    "\\begin{align}\n",
    "    E(G(\\alpha,\\beta)) &= \\alpha\\beta\\\\\n",
    "    Var(G(\\alpha,\\beta)) &= \\alpha\\beta^2\n",
    "\\end{align}"
   ]
  },
  {
   "cell_type": "markdown",
   "metadata": {
    "slideshow": {
     "slide_type": "notes"
    }
   },
   "source": [
    "The Gamma distribution is the prior distribution, that is $\\theta \\sim G(\\alpha,\\beta)$.\n",
    "The Gamma distribution is a two-parameter family of continuous probability distributions.\n",
    "Please note that the common exponential distribution and chi-squared distribution are special cases of the Gamma distribution.\n",
    "\n",
    "We have also suppressed the dependency of $\\pi$ to hyperparameters $\\nu=(\\alpha,\\beta)$ since we assume them to be known."
   ]
  },
  {
   "cell_type": "code",
   "execution_count": 3,
   "metadata": {
    "slideshow": {
     "slide_type": "subslide"
    }
   },
   "outputs": [
    {
     "data": {
      "image/png": "[encoded data removed]",
      "text/plain": [
       "Plot with title “Gamma”"
      ]
     },
     "metadata": {
      "image/png": {
       "height": 420,
       "width": 420
      }
     },
     "output_type": "display_data"
    }
   ],
   "source": [
    "## Gamma distribution\n",
    "alpha <- c(0.5,2,10)\n",
    "beta <- c(0.5,2)\n",
    "thetas <- seq(0, 20, 0.1)\n",
    "\n",
    "mycolors <- topo.colors(6)\n",
    "plot(x=thetas, dgamma(x=thetas, shape=alpha[1], scale=beta[1]), type=\"l\",\n",
    "    lty=1, xlab=expression(theta), main=\"Gamma\", ylab=expression(pi(theta)),\n",
    "    ylim=c(0,1.0), col=mycolors[1], lwd=2)\n",
    "\n",
    "index <- 0\n",
    "for (i in alpha) {\n",
    "    for (j in beta) {\n",
    "        index <- index+1\n",
    "        points(x=thetas, dgamma(x=thetas, shape=i, scale=j),col=mycolors[index], ty=\"l\", lwd=2)\n",
    "    }\n",
    "}\n",
    "\n",
    "names <- cbind(rep(alpha,each=2),rep(beta))\n",
    "\n",
    "legend(x=\"topright\", legend=apply(FUN=paste, MAR=1, X=names, sep=\"\", collapse=\", \"), col=mycolors, lty=1, lwd=2)"
   ]
  },
  {
   "cell_type": "markdown",
   "metadata": {
    "slideshow": {
     "slide_type": "notes"
    }
   },
   "source": [
    "The Gamma distribution is very flexible and it can have one tail ($\\alpha \\leq 1$) or two tails ($\\alpha > 1$).\n",
    "For very large values of $\\alpha$ the Gamma distribution resembles a Normal distribution.\n",
    "The $\\beta$ parameter shrinks or stretches the distribution relative to 0 but it doesn't change its shape."
   ]
  },
  {
   "cell_type": "markdown",
   "metadata": {
    "slideshow": {
     "slide_type": "slide"
    }
   },
   "source": [
    "Using the Bayes' theorem, we can now obtain the posterior probability\n",
    "\\begin{align}\n",
    "    P(\\theta|y) &\\approx f(y|\\theta)\\pi(\\theta)\\\\\n",
    "                &\\approx (e^{-\\theta}\\theta^y)(\\theta^{\\alpha-1}e^{-\\theta/\\beta})\\\\\n",
    "                &= \\theta^{y+\\alpha-1}e^{-\\theta(1+1/\\beta)}\n",
    "\\end{align}"
   ]
  },
  {
   "cell_type": "markdown",
   "metadata": {
    "slideshow": {
     "slide_type": "notes"
    }
   },
   "source": [
    "Since we are only interested in a normalised function of $\\theta$, we drop all functions that do not depend on $\\theta$."
   ]
  },
  {
   "cell_type": "markdown",
   "metadata": {
    "slideshow": {
     "slide_type": "subslide"
    }
   },
   "source": [
    "The posterior distribution is a Gamma distribution $G(\\alpha',\\beta')$ with $\\alpha'=y+\\alpha$ and $\\beta'=(1+1/\\beta)^{-1}$.\n",
    "\n",
    "We were able to do this operation because the Gamma distribution (prior) is the conjugate family for the Poisson distribution (likelihood)."
   ]
  },
  {
   "cell_type": "markdown",
   "metadata": {
    "slideshow": {
     "slide_type": "slide"
    }
   },
   "source": [
    "__ACTIVITY__\n",
    "\n",
    "Suppose that, before looking at the actual data, we have some intuition that we expect to see 3 herds per day.\n",
    "Let's also assume that we are not extremely confident and we assign a moderate variance to it.\n",
    "\n",
    "We then observe 4 herds.\n",
    "\n",
    "_Derive and plot the posterior distribution using both the exact solution and Monte Carlo sampling._"
   ]
  },
  {
   "cell_type": "markdown",
   "metadata": {
    "slideshow": {
     "slide_type": "slide"
    }
   },
   "source": [
    "### Noninformative priors\n",
    "\n",
    "If no reliable prior information on ${\\theta}$ is available,  can we still employ a Bayesian approach?"
   ]
  },
  {
   "cell_type": "markdown",
   "metadata": {
    "slideshow": {
     "slide_type": "fragment"
    }
   },
   "source": [
    "It is still appropriate if we find a distribution $\\pi({\\theta})$ that contains \"no information\" about ${\\theta}$, in the sense that it does not favour one value over another.\n",
    "\n",
    "We refer to such a distribution as a _noninformative prior_ for ${\\theta}$.\n",
    "\n",
    "All the information in the posterior will arise from the data."
   ]
  },
  {
   "cell_type": "markdown",
   "metadata": {
    "slideshow": {
     "slide_type": "slide"
    }
   },
   "source": [
    "If the parameter space is discrete and finite, that is, $\\vec{\\theta}=\\{\\theta_1, \\theta_2, ..., \\theta_n\\}$, a possible noninformative prior is\n",
    "\\begin{equation}\n",
    "    p(\\theta_i) = \\frac{1}{n} \\text{, } i=1, 2, ...,n \n",
    "\\end{equation}"
   ]
  },
  {
   "cell_type": "markdown",
   "metadata": {
    "slideshow": {
     "slide_type": "fragment"
    }
   },
   "source": [
    "The prior distribution must be a proper (legitimate) probability distribution, meaning that\n",
    "\\begin{equation}\n",
    "    \\sum_1^n \\frac{1}{n}=1 \n",
    "\\end{equation}"
   ]
  },
  {
   "cell_type": "markdown",
   "metadata": {
    "slideshow": {
     "slide_type": "subslide"
    }
   },
   "source": [
    "If $\\vec{\\theta}$ is continuous and bounded, as $\\vec{\\theta}=[a,b]$ with $-\\infty<a<b<+\\infty$,\n",
    "a uniform prior in the form\n",
    "\\begin{equation}\n",
    "    P(\\theta) = \\frac{1}{b-a} \\text{, } a<\\theta<b\n",
    "\\end{equation}\n",
    "is a noninformative prior distribution."
   ]
  },
  {
   "cell_type": "markdown",
   "metadata": {
    "slideshow": {
     "slide_type": "notes"
    }
   },
   "source": [
    "This assertion is less clear to be true than in the discrete case."
   ]
  },
  {
   "cell_type": "markdown",
   "metadata": {
    "slideshow": {
     "slide_type": "subslide"
    }
   },
   "source": [
    "If $\\vec{\\theta}$ being continuous and unbounded, so that $\\vec{\\theta}=(-\\infty,+\\infty)$, a noninformative prior could be set as\n",
    "\\begin{equation}\n",
    "    P(\\theta) = c \\text{, any } c>0 \n",
    "\\end{equation}"
   ]
  },
  {
   "cell_type": "markdown",
   "metadata": {
    "slideshow": {
     "slide_type": "notes"
    }
   },
   "source": [
    "However, this distribution is clearly _improper_ as\n",
    "\\begin{equation}\n",
    "    \\int_{-\\infty}^{+\\infty} p(\\theta) d\\theta = +\\infty \n",
    "\\end{equation}\n",
    "This may suggest that in this case a Bayesian approach cannot be used.\n",
    "\n",
    "However, a Bayesian inference is still possible if the integral of of the likelihood\n",
    "$f({y}|\\theta)$ with respect to $\\theta$ equals some finite value $K$, since\n",
    "\\begin{equation}\n",
    "    \\int \\frac{f({y}|\\theta) \\cdot c}{\\int f({y}|\\theta) \\cdot c d\\theta} d\\theta = 1\n",
    "\\end{equation}"
   ]
  },
  {
   "cell_type": "markdown",
   "metadata": {
    "slideshow": {
     "slide_type": "slide"
    }
   },
   "source": [
    "<img src=\"Images/Elephants.jpeg\" width=\"400\" height=\"400\" />\n",
    "\n",
    "If use a uniform prior $U$ for the mean arrival $\\theta$, our parameter, it should be $[0,+\\infty)$.\n",
    "However, we can limit the range define a uniform prior distribution as $U(0,100)$."
   ]
  },
  {
   "cell_type": "code",
   "execution_count": 4,
   "metadata": {
    "slideshow": {
     "slide_type": "skip"
    }
   },
   "outputs": [
    {
     "data": {
      "image/png": "[encoded data removed]",
      "text/plain": [
       "plot without title"
      ]
     },
     "metadata": {
      "image/png": {
       "height": 420,
       "width": 420
      }
     },
     "output_type": "display_data"
    }
   ],
   "source": [
    "## Uniform distribution\n",
    "theta <- seq(0, 100, 0.1)\n",
    "prior <- dunif(x=theta, min=0, max=100)\n",
    "plot(x=theta, y=prior, xlab=expression(theta), ylab=\"Density\", type=\"l\")"
   ]
  },
  {
   "cell_type": "markdown",
   "metadata": {
    "slideshow": {
     "slide_type": "notes"
    }
   },
   "source": [
    "This choice rules out scenarios that are impossible in real life.\n",
    "This means that the posterior will be truncated at 0 and 100.\n",
    "As we lack a conjugate model, we can sample from the posterior to obtain its distribution.\n",
    "\n",
    "Noninformative priors are related to the notion of _reference_ priors.\n",
    "These are not necessarily noninformative but a convenient, default choice for prior distributions."
   ]
  },
  {
   "cell_type": "markdown",
   "metadata": {
    "slideshow": {
     "slide_type": "slide"
    }
   },
   "source": [
    "### Hierarchical modelling\n",
    "\n",
    "A posterior distribution is typically obtained with two stages, one for $f({y},{\\theta})$, the likelihood of the data, and one for $\\pi({\\theta}, {\\nu})$, the prior distribution of ${\\theta}$ given a vector of _hyperparameters_ ${\\nu}$."
   ]
  },
  {
   "cell_type": "markdown",
   "metadata": {
    "slideshow": {
     "slide_type": "notes"
    }
   },
   "source": [
    "Note that we drop the notation of all these parameters being vectors for simplicity."
   ]
  },
  {
   "cell_type": "markdown",
   "metadata": {
    "slideshow": {
     "slide_type": "fragment"
    }
   },
   "source": [
    "If we are uncertain about the values for ${\\nu}$, we need an additional stage, a _hyperprior_ , defining the density\n",
    "distribution of hyperparameters.\n",
    "\n",
    "If we denote this distribution as $h({\\nu})$, then the posterior distribution is\n",
    "\\begin{equation}\n",
    "P({\\theta}|{y}) = \\frac{ \\int f({y}|{\\theta})\\pi({\\theta}|{\\nu})\n",
    "               h({\\nu})d{\\nu} }{ \\int \\int f({y}|{\\theta})\\pi({\\theta}|\n",
    "              {\\nu})h({\\nu})d{\\nu}d{\\theta} } \n",
    "\\end{equation}"
   ]
  },
  {
   "cell_type": "markdown",
   "metadata": {
    "slideshow": {
     "slide_type": "subslide"
    }
   },
   "source": [
    "Another possibility is to replace ${\\nu}$ with an estimate $\\hat{{\\nu}}$ obtained by maximising the marginal distribution $m({y}|{\\nu})$.\n",
    "\n",
    "Inferences are made on the _estimated posterior_ $P({\\theta}|{y},\\hat{{\\nu}})$, by inserting $\\hat{{\\nu}}$ in the Bayes' theorem equation.\n",
    "\n",
    "This approach is called _Empirical Bayesian_ analysis as we are using the data to estimate the hyperparameter."
   ]
  },
  {
   "cell_type": "markdown",
   "metadata": {
    "slideshow": {
     "slide_type": "notes"
    }
   },
   "source": [
    "The empirical estimation of the prior seems a violation of Bayesian principles.\n",
    "Indeed, the update of the prior based on the data would use the data twice, both for the likelihood and the prior.\n",
    "Inferences from such modelling tend to be \"overconfident\" and methods that ignore this fact are called _naive Empirical Bayesian_ approaches."
   ]
  },
  {
   "cell_type": "markdown",
   "metadata": {
    "slideshow": {
     "slide_type": "subslide"
    }
   },
   "source": [
    "${\\nu}$ can depend on a collection of unknown parameters $\\lambda$, with $h(\\nu|\\lambda)$ and a third-stage prior $g(\\lambda)$.\n",
    "\n",
    "This procedure of specifying a model over several layers is called _hierarchical modelling_.\n",
    "\n",
    "This framework is very much used in graphical modelling (e.g. Bayesian networks).\n",
    "As we add extra layers and levels of randomness, subtle changes at the top levels (hyperpriors) will not have a strong effect at the bottom level (the data)."
   ]
  }
 ],
 "metadata": {
  "celltoolbar": "Slideshow",
  "kernelspec": {
   "display_name": "R",
   "language": "R",
   "name": "ir"
  },
  "language_info": {
   "codemirror_mode": "r",
   "file_extension": ".r",
   "mimetype": "text/x-r-source",
   "name": "R",
   "pygments_lexer": "r",
   "version": "4.1.2"
  }
 },
 "nbformat": 4,
 "nbformat_minor": 4
}
