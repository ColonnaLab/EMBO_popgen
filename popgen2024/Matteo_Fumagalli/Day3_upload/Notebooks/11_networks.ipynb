{
 "cells": [
  {
   "cell_type": "markdown",
   "metadata": {
    "slideshow": {
     "slide_type": "slide"
    }
   },
   "source": [
    "![ICL](Images/imperiallogo.jpeg)\n",
    "\n",
    "# Introduction to Bayesian methods in ecology and evolution\n",
    "\n",
    "## Friday: 11 - Bayesian networks"
   ]
  },
  {
   "cell_type": "markdown",
   "metadata": {
    "slideshow": {
     "slide_type": "slide"
    }
   },
   "source": [
    "### Intended Learning Outcomes\n",
    "\n",
    "At the end of this part you will be able to:\n",
    "* describe the concepts of conditional parameterisation and conditional independence,\n",
    "* implement a naive Bayes model,\n",
    "* calculate joint probabilities from Bayes networks,\n",
    "* appreciate the use of Bayes networks in ecology and evolution."
   ]
  },
  {
   "cell_type": "markdown",
   "metadata": {
    "slideshow": {
     "slide_type": "slide"
    }
   },
   "source": [
    "If we want to represent a joint distribution $P$ over a set of binary-valued random variables $\\{X_1, X_2, ..., X_N\\}$ we would need to specify $2^n-1$ numbers."
   ]
  },
  {
   "cell_type": "markdown",
   "metadata": {
    "slideshow": {
     "slide_type": "fragment"
    }
   },
   "source": [
    "Problems are:\n",
    "- the explicit representation of the joint distribution is unmanageable,\n",
    "- it is computationally expensive to store and manipulare it,\n",
    "- it is impossible to acquire so many numbers from an elicited human expert,\n",
    "- some numbers can be very small and hard to contemplate,\n",
    "- we would need large amount of data to learn the joint distribution."
   ]
  },
  {
   "cell_type": "markdown",
   "metadata": {
    "slideshow": {
     "slide_type": "subslide"
    }
   },
   "source": [
    "Solutions are:\n",
    "\n",
    "1. use __independence properties__ in the distribution and an __alternative parameterisation__ to represent high-dimensional distributions more compactly,\n",
    "2. use a combinatorial data structure - a directed acyclic graph - as a general-purpose modelling language."
   ]
  },
  {
   "cell_type": "markdown",
   "metadata": {
    "slideshow": {
     "slide_type": "slide"
    }
   },
   "source": [
    "### Conditional parameterisation\n",
    "\n",
    "Consider the problem of assessing the demographic factors (e.g. birth vs. death rates, expansions vs. contractions) of a particular species of interest. \n",
    "It may be hard to quantify it directly but we have access to estimates of the population size which is informative on demographic factors although not fully indicative.\n",
    "\n",
    "<center><img src=\"Images/parrot.jpeg\" width=\"400\" height=\"400\" /><center>"
   ]
  },
  {
   "cell_type": "markdown",
   "metadata": {
    "slideshow": {
     "slide_type": "slide"
    }
   },
   "source": [
    "Our probability space is induced by two two random variables _Demographic rate (D)_ and _population Size (S)_ .\n",
    "\n",
    "We assume that both are binary-valued, so that \n",
    "- $Val(D) = \\{d^1, d^0\\}$ which represent high ($d^1$) and low ($d^0$) demographic rate\n",
    "- $Val(S) = \\{s^1, s^0\\}$ which represent high ($s^1$) and low ($s^0$) population size"
   ]
  },
  {
   "cell_type": "markdown",
   "metadata": {
    "slideshow": {
     "slide_type": "subslide"
    }
   },
   "source": [
    "Our joint distribution has four entries ($2^n$, but only $2^n-1$ are independent), for example\n",
    "\n",
    "D    | S   |   P(D,S)  |\n",
    "---   |---    |---     |\n",
    "$d^0$  |  $s^0$   |   0.665   |\n",
    "$d^0$  |  $s^1$   |   0.035   |\n",
    "$d^1$  |  $s^0$   |   0.060   |\n",
    "$d^1$  |  $s^1$   |   0.240   |"
   ]
  },
  {
   "cell_type": "markdown",
   "metadata": {
    "slideshow": {
     "slide_type": "slide"
    }
   },
   "source": [
    "We can use the chain rule of conditional probabilities:\n",
    "\n",
    "$P(X_1, ..., X_k) = P(X_1) P(X_2|X_1) \\cdot \\cdot \\cdot P(X_k | X_1,...,X_{k-1})$\n",
    "\n",
    "to represent our joint distribution as\n",
    "\n",
    "$P(D,S) = P(D)P(S|D)$"
   ]
  },
  {
   "cell_type": "markdown",
   "metadata": {
    "slideshow": {
     "slide_type": "subslide"
    }
   },
   "source": [
    "Instead of specifying all entries of $P(D,S)$ we would specify in the form of $P(D)$ (the _prior distribution_ over $D$) and $P(S|D)$ (the _conditional probability distribution_ of $S$ given $D$).\n",
    "\n",
    "$d^0$   | $d^1$   |\n",
    "---     | ---    |\n",
    "0.7    | 0.3    |\n",
    "\n",
    "D    | $s^0$   |   $s^1$  |\n",
    "---   |---    |---     |\n",
    "$d^0$  |  0.95   |   0.05   |\n",
    "$d^1$  |  0.20   |   0.80   |\n"
   ]
  },
  {
   "cell_type": "markdown",
   "metadata": {
    "slideshow": {
     "slide_type": "subslide"
    }
   },
   "source": [
    "We are also representing the process in a way that is compatible with causality.\n",
    "\n",
    "<center><img src=\"Images/baynet1.png\" width=\"400\" height=\"400\" /><center>\n",
    "    \n",
    "This Bayesian network has a node for each random variable with an edge representing the direction of the dependence in this model."
   ]
  },
  {
   "cell_type": "markdown",
   "metadata": {
    "slideshow": {
     "slide_type": "slide"
    }
   },
   "source": [
    "### Naive Bayes model\n",
    "\n",
    "Assume we have access to some measure of the _Genetic diversity_ ($G$) of our population of interest and $G$ takes on three values as\n",
    "\n",
    "- $Val(G) = \\{g^1, g^2, g^3\\}$ which represent high ($g^1$), medium ($g^2$) and low ($g^3$) genetic diversity\n",
    "\n",
    "We can exploit:\n",
    "1. conditional parameterisation\n",
    "2. conditional independence"
   ]
  },
  {
   "cell_type": "markdown",
   "metadata": {
    "slideshow": {
     "slide_type": "subslide"
    }
   },
   "source": [
    "For any reasonable $P(D,S,G)$ there are no independencies:\n",
    "- $D$ is correlated to both $S$ and $G$\n",
    "- $S$ and $G$ are not independent as, for instance, $P(g^1 | s^1) > P(g^2 | s^1)$\n",
    "\n",
    "However $P$ satisfies a conditional independence property: if we know that a population has high demographic rate, a high population size no longer gives us information about the population's genetic diversity.\n",
    "\n",
    "$P(g | d^1, s^1) = P(g | d^1)$\n",
    "\n",
    "$P \\models  P(S \\perp G | D)$"
   ]
  },
  {
   "cell_type": "markdown",
   "metadata": {
    "slideshow": {
     "slide_type": "slide"
    }
   },
   "source": [
    "We can write\n",
    "\n",
    "$P(D,S,G) = P(S,G|D)P(D)$\n",
    "\n",
    "but since\n",
    "\n",
    "$P(S,G|D)=P(S|D)P(G|D)$\n",
    "\n",
    "we have that\n",
    "\n",
    "$P(D,S,G) = P(S|D)P(G|D)P(D)$\n",
    "\n",
    "We factorise the joint distribution as a product of three conditional distributions."
   ]
  },
  {
   "cell_type": "markdown",
   "metadata": {
    "slideshow": {
     "slide_type": "subslide"
    }
   },
   "source": [
    "The alternative parameterisation is more compact than the joint as we have three binomial distributions and two three-valued multinomial distributions (with a total of seven parameters instead of eleven).\n",
    "\n",
    "$d^0$   | $d^1$   |\n",
    "---     | ---    |\n",
    "0.7    | 0.3    |\n",
    "\n",
    "D    | $s^0$   |   $s^1$  |\n",
    "---   |---    |---     |\n",
    "$d^0$  |  0.95   |   0.05   |\n",
    "$d^1$  |  0.20   |   0.80   |\n",
    "\n",
    "D    | $g^1$   |   $g^2$  |  $g^3$   |\n",
    "---   |---    |---     |---     |\n",
    "$d^0$  |  0.20   |   0.34   | 0.46    |\n",
    "$d^1$  |  0.74   |   0.17   | 0.09    |"
   ]
  },
  {
   "cell_type": "markdown",
   "metadata": {
    "slideshow": {
     "slide_type": "subslide"
    }
   },
   "source": [
    "This probabilistic model would be represented using a Bayesian network.\n",
    "\n",
    "<center><img src=\"Images/baynet2.png\" width=\"800\" height=\"800\" /><center>\n",
    "    \n",
    "Modularity is another advantage of this representation."
   ]
  },
  {
   "cell_type": "markdown",
   "metadata": {
    "slideshow": {
     "slide_type": "slide"
    }
   },
   "source": [
    "This is an example of a general model called _naive Bayes model_ which assumes that:\n",
    "1. instances fall into one of a number of mutually exclusive and exhaustive _classes_\n",
    "2. observed _features_ are conditionally independent given the instance's class"
   ]
  },
  {
   "cell_type": "markdown",
   "metadata": {
    "slideshow": {
     "slide_type": "subslide"
    }
   },
   "source": [
    "<center><img src=\"Images/naiveBayes.png\" width=\"600\" height=\"600\" /><center>\n",
    "\n",
    "$(X_i \\perp \\textbf{X}|C)$ for all $i$\n",
    "\n",
    "The model factorises as $P(C,X_1,...,X_n) = P(C)\\prod_{i=1}^n P(X_i|C)$"
   ]
  },
  {
   "cell_type": "markdown",
   "metadata": {
    "slideshow": {
     "slide_type": "slide"
    }
   },
   "source": [
    "__ACTIVITY__\n",
    "\n",
    "What is the probability that a population has a low demographic rate, medium genetic diversity, low population size?\n",
    "\n",
    "$P(d^0, g^2, s^0) = $"
   ]
  },
  {
   "cell_type": "code",
   "execution_count": null,
   "metadata": {
    "slideshow": {
     "slide_type": "fragment"
    }
   },
   "outputs": [],
   "source": [
    "# ..."
   ]
  },
  {
   "cell_type": "markdown",
   "metadata": {
    "slideshow": {
     "slide_type": "slide"
    }
   },
   "source": [
    "The naive Bayes model is often chosen because of its simplicty and small number of parameters.\n",
    "However its strong assumptions may cause to overestimate the impact of certain evidence.\n",
    "\n",
    "This model is typically used for classification with a confidence calculated by the ratio:\n",
    "\n",
    "\\begin{equation*}\n",
    "\\frac{P(C=c^1 | x_1,...,x_n)}{P(C=c^2 | x_1,...,x_n)} = \\frac{P(C=c^1)}{P(C=c^2)} \\prod_{i=1}^n \\frac{P(x_i | C=c^1)}{P(x_i | C=c^2)}\n",
    "\\end{equation*}"
   ]
  },
  {
   "cell_type": "markdown",
   "metadata": {
    "slideshow": {
     "slide_type": "slide"
    }
   },
   "source": [
    "__ACTIVITY__\n",
    "\n",
    "What is the confidence that a population has a high demographic rate given that it has medium genetic diversity and high population size?"
   ]
  },
  {
   "cell_type": "code",
   "execution_count": null,
   "metadata": {
    "slideshow": {
     "slide_type": "fragment"
    }
   },
   "outputs": [],
   "source": [
    "# ..."
   ]
  },
  {
   "cell_type": "markdown",
   "metadata": {
    "slideshow": {
     "slide_type": "slide"
    }
   },
   "source": [
    "### Bayesian networks\n",
    "\n",
    "They build on the same intuitions as the naive Bayes model but they don't require strong independence assumptions and are more flexible.\n",
    "\n",
    "The core of Bayesian networks is a directed acyclic graph (DAG) $\\mathcal{G}$ whose nodes are the random variables in our domain and whose edges correspond, intuitively, to direct influence of one node to another."
   ]
  },
  {
   "cell_type": "markdown",
   "metadata": {
    "slideshow": {
     "slide_type": "subslide"
    }
   },
   "source": [
    "The graph $\\mathcal{G}$ can be viewed as:\n",
    "1. a data structure to represent a joint distribution compactly in a factorised way\n",
    "2. a compact representation for a set of conditional independence assumptions about a distribution\n",
    "\n",
    "These two views are equivalent."
   ]
  },
  {
   "cell_type": "markdown",
   "metadata": {
    "slideshow": {
     "slide_type": "slide"
    }
   },
   "source": [
    "Consider that the genetic diversity $G$ of a population depends not only by its demographic rate $D$ but also on _geographical Barriers_ $B$ in its environment with\n",
    "\n",
    "- $Val(B) = \\{b^0, b^1\\}$ which represent absence ($b^0$) and presence ($b^1$) of geographical barriers\n",
    "\n",
    "Consider also that we want to assign a conservation status $C$ to said population with\n",
    "\n",
    "- $Val(C) = \\{c^0, c^1\\}$ which represent threatened ($c^0$) and least-concerned ($c^1$) label."
   ]
  },
  {
   "cell_type": "markdown",
   "metadata": {
    "slideshow": {
     "slide_type": "subslide"
    }
   },
   "source": [
    "We have five random variables:\n",
    "- Demographic rate $D$, binary\n",
    "- population Size $S$, binary\n",
    "- Genetic diversity $G$, ternary\n",
    "- geographical Barriers $B$, binary\n",
    "- Conservation status $C$, binary\n",
    "\n",
    "The joint distribution has 48 entries."
   ]
  },
  {
   "cell_type": "markdown",
   "metadata": {
    "slideshow": {
     "slide_type": "slide"
    }
   },
   "source": [
    "The first component of a Bayesian network is its structure where each variable is a stochastic function of its parents.\n",
    "\n",
    "<center><img src=\"Images/baynet3.png\" width=\"800\" height=\"800\" /><center>"
   ]
  },
  {
   "cell_type": "markdown",
   "metadata": {
    "slideshow": {
     "slide_type": "slide"
    }
   },
   "source": [
    "The second component is a set of _local probability models_ .\n",
    "\n",
    "$b^0$   | $b^1$   |\n",
    "---     | ---    |\n",
    "0.6    | 0.4    |\n",
    "\n",
    "$d^0$   | $d^1$   |\n",
    "---     | ---    |\n",
    "0.7    | 0.3    |\n",
    "\n",
    "D    | $s^0$   |   $s^1$  |\n",
    "---   |---    |---     |\n",
    "$d^0$  |  0.95   |   0.05   |\n",
    "$d^1$  |  0.20   |   0.80   |"
   ]
  },
  {
   "cell_type": "markdown",
   "metadata": {
    "slideshow": {
     "slide_type": "subslide"
    }
   },
   "source": [
    "D,B    | $g^1$   |   $g^2$  |  $g^3$   |\n",
    "---   |---    |---     |---     |\n",
    "$d^0,b^0$  |  0.30   |   0.40   | 0.30    |\n",
    "$d^0,b^1$  |  0.05   |   0.25   | 0.70    |\n",
    "$d^1,b^0$  |  0.90   |   0.08   | 0.02    |\n",
    "$d^1,b^1$  |  0.50   |   0.30   | 0.20    |\n",
    "\n",
    "G    | $c^0$    | $c^1$     |\n",
    "---   |---    |---     |\n",
    "$g^1$    | 0.1    |   0.9   |\n",
    "$g^2$    | 0.4    |   0.6   |\n",
    "$g^3$    | 0.99    |   0.01   |"
   ]
  },
  {
   "cell_type": "markdown",
   "metadata": {
    "slideshow": {
     "slide_type": "fragment"
    }
   },
   "source": [
    "The network structure together with its conditional probability distributions (CPDs) is a _Bayesian network_ $\\mathcal{B}$.\n",
    "\n",
    "We can refer to this example as $\\mathcal{B}^{species}$"
   ]
  },
  {
   "cell_type": "markdown",
   "metadata": {
    "slideshow": {
     "slide_type": "slide"
    }
   },
   "source": [
    "We can use this data structure to calculate the probability of an event, e.g. $P(d^1, b^0, g^2, s^1, c^0)$"
   ]
  },
  {
   "cell_type": "markdown",
   "metadata": {
    "slideshow": {
     "slide_type": "fragment"
    }
   },
   "source": [
    "$P(d^1, b^0, g^2, s^1, c^0) = P(d^1) P(b^0) P(g^2 | d^1, b^0) P(s^1 | d^1) P(c^0 | g^2) $"
   ]
  },
  {
   "cell_type": "code",
   "execution_count": null,
   "metadata": {
    "slideshow": {
     "slide_type": "fragment"
    }
   },
   "outputs": [],
   "source": [
    "0.3*0.6*0.08*0.8*0.4"
   ]
  },
  {
   "cell_type": "markdown",
   "metadata": {
    "slideshow": {
     "slide_type": "subslide"
    }
   },
   "source": [
    "In general we have\n",
    "\n",
    "$P(D,B,G,S,C) = P(D) P(B) P(G|D,B) P(S|D) P(C|G)$\n",
    "\n",
    "which is an example of the _chain rule for Bayesian networks_ ."
   ]
  },
  {
   "cell_type": "markdown",
   "metadata": {
    "slideshow": {
     "slide_type": "slide"
    }
   },
   "source": [
    "### Intended Learning Outcomes\n",
    "\n",
    "At the end of this part you are now able to:\n",
    "* describe the concepts of conditional parameterisation and conditional independence,\n",
    "* implement a naive Bayes model,\n",
    "* calculate joint probabilities from Bayes networks,\n",
    "* appreciate the use of Bayes networks in ecology and evolution."
   ]
  },
  {
   "cell_type": "markdown",
   "metadata": {
    "slideshow": {
     "slide_type": "slide"
    }
   },
   "source": [
    "### Intended Learning Outcomes\n",
    "\n",
    "At the end of this __module__ you are now able to:\n",
    "* critically discuss advantages (and disadvantages) of Bayesian data analysis,\n",
    "* illustrate Bayes’ Theorem and concepts of prior and posterior distributions,\n",
    "* implement simple Bayesian methods, including sampling and approximated techniques and Bayes networks\n",
    "* apply Bayesian methods to solve problems in ecology and evolution."
   ]
  },
  {
   "cell_type": "code",
   "execution_count": null,
   "metadata": {
    "slideshow": {
     "slide_type": "skip"
    }
   },
   "outputs": [],
   "source": []
  }
 ],
 "metadata": {
  "celltoolbar": "Slideshow",
  "kernelspec": {
   "display_name": "R",
   "language": "R",
   "name": "ir"
  },
  "language_info": {
   "codemirror_mode": "r",
   "file_extension": ".r",
   "mimetype": "text/x-r-source",
   "name": "R",
   "pygments_lexer": "r",
   "version": "3.6.3"
  }
 },
 "nbformat": 4,
 "nbformat_minor": 4
}
