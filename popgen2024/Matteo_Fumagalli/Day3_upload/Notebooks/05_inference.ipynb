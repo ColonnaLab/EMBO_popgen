{
 "cells": [
  {
   "cell_type": "markdown",
   "metadata": {
    "slideshow": {
     "slide_type": "slide"
    }
   },
   "source": [
    "![ICL](Images/imperiallogo.jpeg)\n",
    "\n",
    "# Introduction to bayesian methods in ecology and evolution\n",
    "\n",
    "## Tuesday: 05 - Bayesian inference"
   ]
  },
  {
   "cell_type": "markdown",
   "metadata": {
    "slideshow": {
     "slide_type": "notes"
    }
   },
   "source": [
    "Once we have specified the prior, we can use Bayes' theorem to obtain the posterior\n",
    "distribution of model parameters.\n",
    "However, the density (or cumulative) function can be difficult to interpret.\n",
    "Therefore we want to summarise the information enclosed in these distributions.\n",
    "We can use Bayesian techniques for point estimation, interval estimation and hypothesis testing."
   ]
  },
  {
   "cell_type": "markdown",
   "metadata": {
    "slideshow": {
     "slide_type": "slide"
    }
   },
   "source": [
    "### Point estimation\n",
    "\n",
    "In the the univariate case we wish to select a summary feature of $p(\\theta|{y})$ to obtain a point estimate \n",
    "$\\hat{\\theta}({y})$, which could be either its mean, median, or mode.\n",
    "\n",
    "These features may behave very differently depending on the distribution, especially\n",
    "when it is asymmetric and one-tailed."
   ]
  },
  {
   "cell_type": "markdown",
   "metadata": {
    "slideshow": {
     "slide_type": "slide"
    }
   },
   "source": [
    "<img src=\"Images/Elephants.jpeg\" width=\"400\" height=\"400\" />\n",
    "\n",
    "If $y=1$ and prior $G(0.5,1)$, what is the mean, mode and median of the posterior distribution?"
   ]
  },
  {
   "cell_type": "code",
   "execution_count": 1,
   "metadata": {
    "slideshow": {
     "slide_type": "subslide"
    }
   },
   "outputs": [
    {
     "data": {
      "image/png": "[encoded data removed]",
      "text/plain": [
       "plot without title"
      ]
     },
     "metadata": {},
     "output_type": "display_data"
    }
   ],
   "source": [
    "## Gamma posterior asymmetric, one-tailed prior\n",
    "alpha <- 0.5\n",
    "beta <- 1\n",
    "theta <- seq(0, 20, 0.1) \n",
    "\n",
    "prior <- dgamma(x=theta, shape=alpha, scale=beta)\n",
    "y <- 1\n",
    "\n",
    "posterior <- dgamma(x=theta, shape=y+alpha, scale=1/(1+1/beta))\n",
    "plot(x=theta, y=posterior, xlab=expression(theta), ylab=\"Density\", type=\"l\")\n",
    "lines(theta, prior, lty=3)"
   ]
  },
  {
   "cell_type": "markdown",
   "metadata": {
    "slideshow": {
     "slide_type": "slide"
    }
   },
   "source": [
    "Generally speaking, the __mode__ is the easiest to calculate.\n",
    "Since no normalisation is required, we can work directly with the numerator.\n",
    "\n",
    "If the prior distribution is flat, then the _posterior mode_ will be equal to the maximum likelihood estimate of $\\theta$.\n",
    "In this case, it is called the _generalised maximum likelihood_ estimate of $\\theta$."
   ]
  },
  {
   "cell_type": "markdown",
   "metadata": {
    "slideshow": {
     "slide_type": "subslide"
    }
   },
   "source": [
    "If the posterior distribution is symmetric, then the mean and the median are equivalent.\n",
    "\n",
    "For symmetric unimodal distributions, all these three features are equivalent.\n",
    "\n",
    "For asymmetric distributions, the median is often the best choice as it is less affected by outliers and it is an intermediate to the mode and the mean."
   ]
  },
  {
   "cell_type": "markdown",
   "metadata": {
    "slideshow": {
     "slide_type": "slide"
    }
   },
   "source": [
    "The _posterior variance_ is a measure of the accuracy for the point estimate $\\hat{\\theta}({y})$,\n",
    "\\begin{equation}\n",
    "    \\mathrm{Var}_{\\theta|{y}}(\\theta) = \\mathrm{E}_{\\theta|{y}}[\\theta-\\mathrm{E}_{\\theta({y})}]^2 \n",
    "\\end{equation}\n",
    "\n",
    "The posterior mean minimises the posterior variance in respect to $\\hat{\\theta}({y})$."
   ]
  },
  {
   "cell_type": "markdown",
   "metadata": {
    "slideshow": {
     "slide_type": "subslide"
    }
   },
   "source": [
    "In the multivariate case, the posterior mode is\n",
    "$\\hat{\\vec{\\theta}}({y})=(\\hat{\\theta_1},\\hat{\\theta_2},...,\\hat{\\theta_k})$.\n",
    "\n",
    "The posterior mean minimises the _posterior covariance matrix_ with respect to $\\hat{\\vec{\\theta}}({y})$."
   ]
  },
  {
   "cell_type": "markdown",
   "metadata": {
    "slideshow": {
     "slide_type": "notes"
    }
   },
   "source": [
    "If the mode exists, maximisation methods (e.g. grid search, golden section search,\n",
    "Newton-type methods, ...) are typically employed to locate the maximum."
   ]
  },
  {
   "cell_type": "markdown",
   "metadata": {
    "slideshow": {
     "slide_type": "slide"
    }
   },
   "source": [
    "### Credible intervals\n",
    "\n",
    "The Bayesian analogue of a frequentist confidence interval is called a _credible set_.\n",
    "\n",
    "A $100 \\times (1-\\alpha)$ credible set for ${\\theta}$ is a subset $C$ of\n",
    "${\\Theta}$ such that\n",
    "\\begin{equation}\n",
    "    1-\\alpha \\leq P(C|{y}) = \\int_C p({\\theta}|{y})d{\\theta}\n",
    "\\end{equation}\n",
    "in the continuous case.\n",
    "In the discrete case the integral is replaced by a summation."
   ]
  },
  {
   "cell_type": "markdown",
   "metadata": {
    "slideshow": {
     "slide_type": "fragment"
    }
   },
   "source": [
    "This definition can express a likelihood of $\\theta$ falling in $C$ as \"the probability that $\\theta$ lies in $C$ given the observed data $y$ is at least $(1-\\alpha)$\"."
   ]
  },
  {
   "cell_type": "markdown",
   "metadata": {
    "slideshow": {
     "slide_type": "notes"
    }
   },
   "source": [
    "Unlike the frequentist case, the credible set provides an actual probability statement, based on both the observed data and prior opinion.\n",
    "\n",
    "In discrete settings it may not be possible to find the exact coverage probability $(1-\\alpha)$."
   ]
  },
  {
   "cell_type": "markdown",
   "metadata": {
    "slideshow": {
     "slide_type": "slide"
    }
   },
   "source": [
    "In the continuous case, the _highest posterior density_ , or HPD credible set, is defined as\n",
    "\\begin{equation}\n",
    "    C = \\{ \\theta \\in \\Theta : p(\\theta|y) \\geq k(\\alpha) \\}\n",
    "\\end{equation}\n",
    "where $k(\\alpha)$ is the largest constant satisfying $P(C|y)\\geq(1-\\alpha)$."
   ]
  },
  {
   "cell_type": "markdown",
   "metadata": {
    "slideshow": {
     "slide_type": "slide"
    }
   },
   "source": [
    "<img src=\"Images/Elephants.jpeg\" width=\"400\" height=\"400\" />\n",
    "\n",
    "Assume that the posterior distribution $p(\\theta|{y}) \\sim G(2,1)$."
   ]
  },
  {
   "cell_type": "code",
   "execution_count": 2,
   "metadata": {
    "slideshow": {
     "slide_type": "subslide"
    }
   },
   "outputs": [
    {
     "data": {
      "image/png": "[encoded data removed]",
      "text/plain": [
       "plot without title"
      ]
     },
     "metadata": {},
     "output_type": "display_data"
    }
   ],
   "source": [
    "## Interval estimation\n",
    "theta <- seq(0, 10, 0.05)\n",
    "alpha <- 2\n",
    "beta <- 1\n",
    "\n",
    "posterior <- dgamma(x=theta, shape=alpha, scale=beta)\n",
    "\n",
    "plot(x=theta, y=posterior, xlab=expression(theta), ylab=\"Posterior density\", type=\"l\")"
   ]
  },
  {
   "cell_type": "markdown",
   "metadata": {
    "slideshow": {
     "slide_type": "slide"
    }
   },
   "source": [
    "For a unimodal distribution, the HPD is the narrowest interval with the highest probability density.\n",
    "\n",
    "For instance, drawing a line at $k(\\alpha)=0.1$ results in a $87\\%$ HPD."
   ]
  },
  {
   "cell_type": "code",
   "execution_count": 3,
   "metadata": {
    "slideshow": {
     "slide_type": "fragment"
    }
   },
   "outputs": [
    {
     "data": {
      "image/png": "[encoded data removed]",
      "text/plain": [
       "plot without title"
      ]
     },
     "metadata": {},
     "output_type": "display_data"
    }
   ],
   "source": [
    "plot(x=theta, y=posterior, xlab=expression(theta), ylab=\"Posterior density\", type=\"l\")\n",
    "abline(h=0.1, lty=3)"
   ]
  },
  {
   "cell_type": "markdown",
   "metadata": {
    "slideshow": {
     "slide_type": "subslide"
    }
   },
   "source": [
    " We can calculate the interval of values of $\\theta$ included in the $95\\%$ HPD."
   ]
  },
  {
   "cell_type": "code",
   "execution_count": 5,
   "metadata": {
    "slideshow": {
     "slide_type": "fragment"
    }
   },
   "outputs": [
    {
     "data": {
      "text/html": [
       "<table>\n",
       "<caption>A matrix: 1 × 2 of type dbl</caption>\n",
       "<thead>\n",
       "\t<tr><th></th><th scope=col>lower</th><th scope=col>upper</th></tr>\n",
       "</thead>\n",
       "<tbody>\n",
       "\t<tr><th scope=row>var1</th><td>0.05248096</td><td>4.768461</td></tr>\n",
       "</tbody>\n",
       "</table>\n"
      ],
      "text/latex": [
       "A matrix: 1 × 2 of type dbl\n",
       "\\begin{tabular}{r|ll}\n",
       "  & lower & upper\\\\\n",
       "\\hline\n",
       "\tvar1 & 0.05248096 & 4.768461\\\\\n",
       "\\end{tabular}\n"
      ],
      "text/markdown": [
       "\n",
       "A matrix: 1 × 2 of type dbl\n",
       "\n",
       "| <!--/--> | lower | upper |\n",
       "|---|---|---|\n",
       "| var1 | 0.05248096 | 4.768461 |\n",
       "\n"
      ],
      "text/plain": [
       "     lower      upper   \n",
       "var1 0.05248096 4.768461"
      ]
     },
     "metadata": {},
     "output_type": "display_data"
    },
    {
     "data": {
      "image/png": "[encoded data removed]",
      "text/plain": [
       "plot without title"
      ]
     },
     "metadata": {},
     "output_type": "display_data"
    }
   ],
   "source": [
    "library(coda)\n",
    "\n",
    "x <- rgamma(n=1e5, shape=alpha, scale=beta)\n",
    "plot(x=theta, y=posterior, xlab=expression(theta), ylab=\"Posterior density\", type=\"l\")\n",
    "hpd <- HPDinterval(as.mcmc(x), prob=0.95)\n",
    "hpd\n",
    "abline(h=0.1, lty=3)\n",
    "abline(v=hpd, lty=2)"
   ]
  },
  {
   "cell_type": "markdown",
   "metadata": {
    "slideshow": {
     "slide_type": "slide"
    }
   },
   "source": [
    "__ACTIVITY__\n",
    "\n",
    "Another common strategy to obtain confidence intervals is to choose the interval where the probability of being below it is as likely as being above it.\n",
    "\n",
    "For instance, in the previous example with $a=1-0.87$ assuming a $87\\%$ HPD, the _equal-tailed interval_ corresponds to the $\\{a/2,1-a/2\\}$- quantiles of the distribution.\n",
    "This interval includes the median and, if the distribution is symmetric, both credible intervals will be the same.\n",
    "\n",
    "_Write a code to plot the posterior distribution $N(2,1)$ using Monte Carlo sampling and the equal-tailed interval with $a=1-0.90$._"
   ]
  },
  {
   "cell_type": "markdown",
   "metadata": {
    "slideshow": {
     "slide_type": "slide"
    }
   },
   "source": [
    "How to summarise the posterior distribution:\n",
    "* the posterior mean,\n",
    "* several posterior percentiles (e.g. 0.025, 0.25, 0.50, 0.75, 0.975),\n",
    "* a credible interval,\n",
    "* posterior probabilities $p(\\theta>c|y)$ where $c$ is a notable point (e.g. 0, 1, depending on the problem),\n",
    "* a plot of the distribution to check whether it is unimodal, multimodal, skewed, etc etc."
   ]
  },
  {
   "cell_type": "markdown",
   "metadata": {
    "slideshow": {
     "slide_type": "slide"
    }
   },
   "source": [
    "### Hypothesis testing\n",
    "\n",
    "The frequentist approach to compare predictions made by alternative scientific explanations is based on classic ideas of Fisher, Neyman and Pearson."
   ]
  },
  {
   "cell_type": "markdown",
   "metadata": {
    "slideshow": {
     "slide_type": "notes"
    }
   },
   "source": [
    "Typically, one formulates a null hypothesis $H_0$ and an alternative hypothesis $H_a$.\n",
    "Then an appropriate test statistic is chosen $T({Y})$.\n",
    "Finally, one computes the _observed significance_ , or _p_-value, of the test as the chance that $T({Y})$ is \"more extreme\" that $T(y_{obs})$, where the \"extremeness\" is towards the alternate hypothesis.\n",
    "If the _p_-value is less than some threshold, typically in the form of a pre-specified Type I error rate, $H_0$ is rejected, otherwise it is not."
   ]
  },
  {
   "cell_type": "markdown",
   "metadata": {
    "slideshow": {
     "slide_type": "subslide"
    }
   },
   "source": [
    "There are several criticisms to this approach:\n",
    "* it is applied only when two hypotheses are nested, one within the other; typically, $H_0$ is a simplification of $H_a$ and involves setting one parameter of $H_a$ to some known constant value;\n",
    "* it offers evidence _against_ the null hypothesis; a large _p_-value does not mean that the two models are equivalent, but only that we lack evidence of the contrary; we don't \"accept the null hypothesis\" but \"fail to reject it\";\n",
    "* a _p_-value does not offer a direct interpretation in terms of weight of evidence but only as a long-term probability (a _p_-value is not the probability that $H_0$ is true!)."
   ]
  },
  {
   "cell_type": "markdown",
   "metadata": {
    "slideshow": {
     "slide_type": "slide"
    }
   },
   "source": [
    "The Bayesian approach to hypothesis testing is simpler and more intuitive: one calculates the posterior probability that the each hypothesis is correct.\n",
    "\n",
    "We can test as many models as desired, $M_i, i=1,...,m$."
   ]
  },
  {
   "cell_type": "markdown",
   "metadata": {
    "slideshow": {
     "slide_type": "slide"
    }
   },
   "source": [
    "Suppose we have two models $M_1$ and $M_2$ for data $Y$ and with parameters ${\\theta}_1$ and ${\\theta}_2$, respectively.\n",
    "\n",
    "With prior densities $\\pi_i({\\theta}_i)$, with $i=1,2$, the marginal distributions of $Y$ are\n",
    "\\begin{equation}\n",
    "    P(y|M_i) = \\int f(y|\\theta_i,M_i) \\pi_i(\\theta_i) d\\theta_i\n",
    "\\end{equation}\n",
    "\n",
    "Then the Bayes' theorem can be used to calculate the posterior probabilities $P(M_1|y)$ and $P(M_2|y)=1-P(M_1|y)$ for the two models."
   ]
  },
  {
   "cell_type": "markdown",
   "metadata": {
    "slideshow": {
     "slide_type": "subslide"
    }
   },
   "source": [
    "A _Bayes factor_ (BF) is used to summarise these results, and it is equal to the ratio of\n",
    "posterior odds of $M_1$ to the prior odds of $M_1$\n",
    "\\begin{equation}\n",
    "    BF = \\frac{P(M_1|y)/P(M_2|y)}{P(M_1)/P(M_2)}=\\frac{p(y|M_1)}{p(y|M_2)}\n",
    "\\end{equation}\n",
    "\n",
    "This equation is the ratio of observed marginal densities for the two models."
   ]
  },
  {
   "cell_type": "markdown",
   "metadata": {
    "slideshow": {
     "slide_type": "fragment"
    }
   },
   "source": [
    "If the two models are _a priori_ equally probable, then\n",
    "\\begin{equation}\n",
    "    BF = P(M_1|y) / P(M_2|y)\n",
    "\\end{equation}\n",
    "which is the posterior odds of $M_1$."
   ]
  },
  {
   "cell_type": "markdown",
   "metadata": {
    "slideshow": {
     "slide_type": "subslide"
    }
   },
   "source": [
    "The interpretation of BF is that it captures the change in the odds in favour of model 1 as we move from the prior to the posterior.\n",
    "\n",
    "| BF | Strength of evidence|\n",
    "| --- | -------- |\n",
    "| 1 to 3 | not worth more than a bare mention|\n",
    "| 3 to 20 | positive|\n",
    "| 20 to 150 | strong|\n",
    "| >150 | very strong|"
   ]
  },
  {
   "cell_type": "markdown",
   "metadata": {
    "slideshow": {
     "slide_type": "slide"
    }
   },
   "source": [
    "### Intended Learning Outcomes\n",
    "\n",
    "At the end of this part you are now be able to:\n",
    "* describe the pros and cons of using different priors (e.g. elicited, conjugate, ...),\n",
    "* evaluate the interplay between prior and posterior distributions,\n",
    "* calculate several quantities of interest from posterior distributions,\n",
    "* apply Bayesian inference to estimate population variation data."
   ]
  }
 ],
 "metadata": {
  "celltoolbar": "Slideshow",
  "kernelspec": {
   "display_name": "R",
   "language": "R",
   "name": "ir"
  },
  "language_info": {
   "codemirror_mode": "r",
   "file_extension": ".r",
   "mimetype": "text/x-r-source",
   "name": "R",
   "pygments_lexer": "r",
   "version": "3.6.3"
  }
 },
 "nbformat": 4,
 "nbformat_minor": 2
}
