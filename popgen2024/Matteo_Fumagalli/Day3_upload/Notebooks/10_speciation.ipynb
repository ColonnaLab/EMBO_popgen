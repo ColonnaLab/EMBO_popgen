{
 "cells": [
  {
   "cell_type": "markdown",
   "metadata": {
    "slideshow": {
     "slide_type": "slide"
    }
   },
   "source": [
    "Practical: Speciation time using ABC"
   ]
  },
  {
   "cell_type": "markdown",
   "metadata": {
    "slideshow": {
     "slide_type": "slide"
    }
   },
   "source": [
    "![](Images/PolarBear.jpg)"
   ]
  },
  {
   "cell_type": "markdown",
   "metadata": {
    "slideshow": {
     "slide_type": "slide"
    }
   },
   "source": [
    "##### Preparation\n",
    "\n",
    "For this practical you need some R packages, namely `coda`, `abc`, `maps`, `spam`, `fields`.\n",
    "For plotting purposes you may also want to use `ggplot2`.\n",
    "\n",
    "You will also need the software `ms` to be installed.\n",
    "You can find the executable for linux in `bin/ms`.\n",
    "If it doesn't work, you can compile the source `Software/ms.tar.gz` by\n",
    "`tar -xzvf ms.tar.gz; cd msdir; gcc -o ms ms.c streec.c rand1.c -lm`.\n",
    "Finally you need some data and R functions provided in `Data`.\n",
    "\n",
    "I suggest to copy `functions.R` and `polar.brown.sfs*` in the workspace where you will run this practical without overwriting the repository.\n",
    "\n",
    "You can work in teams for this practical."
   ]
  },
  {
   "cell_type": "markdown",
   "metadata": {
    "slideshow": {
     "slide_type": "slide"
    }
   },
   "source": [
    "##### Project\n",
    "\n",
    "In this practical you are going to estimate the divergence (or speciation) time between polar bears and brown bears using genomics data. You will be using Approximate Bayesian Computation (ABC) methods to inference such time."
   ]
  },
  {
   "cell_type": "code",
   "execution_count": null,
   "metadata": {
    "slideshow": {
     "slide_type": "slide"
    }
   },
   "outputs": [],
   "source": [
    "# Open R and load all R functions and data needed:\n",
    "source(\"Data/functions.R\")\n",
    "load(\"Data/polar.brown.sfs.Rdata\")\n",
    "\n",
    "# Inspect the objects:\n",
    "ls()"
   ]
  },
  {
   "cell_type": "markdown",
   "metadata": {
    "slideshow": {
     "slide_type": "subslide"
    }
   },
   "source": [
    "The file `polar.brown.sfs` includes the joint (2 dimensions) site frequency\n",
    "spectrum (SFS) between polar bears (on the rows) and brown bears (on the columns).\n",
    "This is based on real genomic data from 18 polar bears and 7 brown bears.\n",
    "The site frequency spectrum is a matrix $N \\times M$ where cell $(i,j)$ reports the number of sites\n",
    "with allele frequency $(i-1)$ in polar bears and $(j-1)$ in brown bears.\n",
    "If you want to see this file type `cat polar.brown.sfs` in your terminal."
   ]
  },
  {
   "cell_type": "code",
   "execution_count": null,
   "metadata": {
    "slideshow": {
     "slide_type": "subslide"
    }
   },
   "outputs": [],
   "source": [
    "# You can plot this spectrum:\n",
    "plot2DSFS(polar.brown.sfs, xlab=\"Polar\", ylab=\"Brown\", main=\"2D-SFS\")"
   ]
  },
  {
   "cell_type": "markdown",
   "metadata": {
    "slideshow": {
     "slide_type": "fragment"
    }
   },
   "source": [
    "Each population has $2n+1$ entries in its spectrum, with $n$ being the number of individuals.\n",
    "The number of chromosomes for each species (bears are diploids, like humans)\n",
    "can be retrieved as:"
   ]
  },
  {
   "cell_type": "code",
   "execution_count": null,
   "metadata": {
    "slideshow": {
     "slide_type": "fragment"
    }
   },
   "outputs": [],
   "source": [
    "nChroms.polar <- nrow(polar.brown.sfs)-1\n",
    "nChroms.polar\n",
    "nChroms.brown <- ncol(polar.brown.sfs)-1\n",
    "nChroms.brown"
   ]
  },
  {
   "cell_type": "markdown",
   "metadata": {
    "slideshow": {
     "slide_type": "slide"
    }
   },
   "source": [
    "The only thing you need to remember about the site frequency spectrum is that we\n",
    "can easily calculate several summary statistics from it.\n",
    "These summary statistics can be used for inferences in an Approximate Bayesian\n",
    "Computation (ABC) framework.\n",
    "\n",
    "For instance, from the site frequency spectrum, we can easily calculate the\n",
    "number of analysed sites (in this example all sites are polymorphic, and thus\n",
    "variable in our sample), which is simply the sum of all entries in the SFS."
   ]
  },
  {
   "cell_type": "code",
   "execution_count": null,
   "metadata": {
    "slideshow": {
     "slide_type": "fragment"
    }
   },
   "outputs": [],
   "source": [
    "nrSites <- sum(polar.brown.sfs, na.rm=T)\n",
    "nrSites"
   ]
  },
  {
   "cell_type": "markdown",
   "metadata": {
    "slideshow": {
     "slide_type": "subslide"
    }
   },
   "source": [
    "This value is important as we will condition the simulations to generate this\n",
    "number of sites for each repetition.\n",
    "In other words, when simulating data we will simulate exactly this number of\n",
    "polymoprhic sites to calculate the site frequency spectrum and all\n",
    "corresponding summary statistics afterwards.\n",
    "\n",
    "I provide a function to easily calculate several summary statistics\n",
    "from a site frequency spectrum."
   ]
  },
  {
   "cell_type": "code",
   "execution_count": null,
   "metadata": {
    "slideshow": {
     "slide_type": "fragment"
    }
   },
   "outputs": [],
   "source": [
    "obsSummaryStats <- calcSummaryStats(polar.brown.sfs)\n",
    "obsSummaryStats\n",
    "# These are the OBSERVED summary statistics! Keep them."
   ]
  },
  {
   "cell_type": "markdown",
   "metadata": {
    "slideshow": {
     "slide_type": "slide"
    }
   },
   "source": [
    "These are the summary statistics available in this practical and their meaning\n",
    "is the following:\n",
    "* fst: population genetic differentiation; it measures how much species are genetically different; it goes from 0 (identical) to 1 (completely different);\n",
    "* pivar1: genetic diversity of species 1 (polar bears);\n",
    "* pivar2: genetic diversity of species 1 (brown bears);\n",
    "* sing1: number of singletons (sites with frequency equal to 1) for species 1 (polar bears);\n",
    "* sing2: number of singletons (sites with frequency equal to 1) for species 2 (brown bears);\n",
    "* doub1: number of doubletons (sites with frequency equal to 2) for species 1 (polar bears);\n",
    "* doub2: number of doubletons (sites with frequency equal to 2) for species 2 (brown bears);\n",
    "* pef: proportion of sites with equal frequency between polar bears and brown bears;\n",
    "* puf: proportion of sites with unequal frequency between polar bears and brown bears (note that puf=1-pef).\n",
    "\n",
    "It is not important that you understand the significance (if any) of all these summary statistics in an evolutionary context.\n",
    "If interested, a nice review is \"Molecular Signatures of Natural Selection\" by Rasmus Nielsen (you can find a pdf copy in `Readings/Papers/Nielsen_2005.pdf`).\n",
    "However, some of these summary statistics might be more informative than others.\n",
    "It is your first goal to understand which summary statistics to keep.\n",
    "\n",
    "The parameter you want to estimate is the divergence time between polar and brown bears (T).\n",
    "You first aim is to performs N simulations of data by drawing from a prior distribution of T and record (separately) the drawn values and the corresponding summary statistics generated by that value of T.\n",
    "\n",
    "You can define how many simulations you want to perform (ideally a lot)."
   ]
  },
  {
   "cell_type": "code",
   "execution_count": null,
   "metadata": {
    "slideshow": {
     "slide_type": "slide"
    }
   },
   "outputs": [],
   "source": [
    "nrSimul <- 1e4 # but change this accordingly"
   ]
  },
  {
   "cell_type": "markdown",
   "metadata": {
    "slideshow": {
     "slide_type": "slide"
    }
   },
   "source": [
    "Then you should define the prior distribution of our parameter to be estimated,\n",
    "the divergence time T.\n",
    "You can use any distribution you find suitable.\n",
    "However, you may want to consider that a reasonable range of values for T is\n",
    "between 200k and 700k years ago.\n",
    "\n",
    "The function to simulate data (specifically the site frequency spectrum)\n",
    "given values of T (and M, the migration rate) is `simulate`:"
   ]
  },
  {
   "cell_type": "code",
   "execution_count": null,
   "metadata": {
    "slideshow": {
     "slide_type": "fragment"
    }
   },
   "outputs": [],
   "source": [
    "simulate"
   ]
  },
  {
   "cell_type": "markdown",
   "metadata": {
    "slideshow": {
     "slide_type": "subslide"
    }
   },
   "source": [
    "This function takes as parameters: T (divergence time), M (migration rate),\n",
    "how many sites to simulate, the directory for `ms` program and the text file\n",
    "in output.\n",
    "This function simulates a joint evolutionary history for both polar and brown\n",
    "bears according to what we know in terms of their respective changes in size.\n",
    "However, you can set when they speciated (T in years ago) and the migration rate (M).\n",
    "(Note that the migration rate is scaled by the reference population size\n",
    "so a reasonable range of M is between 0 and 2.)\n",
    "\n",
    "As an example, assuming T=200k and M=0 the command to simulate data and\n",
    "calculate summary statistics is the following:"
   ]
  },
  {
   "cell_type": "code",
   "execution_count": null,
   "metadata": {
    "slideshow": {
     "slide_type": "slide"
    }
   },
   "outputs": [],
   "source": [
    "# first, set the path to the \"ms\" software you installed\n",
    "msDir <- \"bin/ms\" # this is my specific case, yours could be different\n",
    "msDir <- \"/home/matteo/Documents/Teaching/Workshops/EMBO-POPGEN/Day3/Notebooks/Software/msdir/ms\"\n",
    "\n",
    "# second, set the name for the output text file\n",
    "fout <- \"ms.txt\" # leave it like here\n",
    "\n",
    "# then we can simulate data:\n",
    "simulate(T=2e5, M=0, nrSites, msDir, fout)\n",
    "\n",
    "# and finally calculate the summary statistics for this simulation \n",
    "#(note that you need to specify the number of chromosomes for the two species)\n",
    "simulatedSFS <- fromMStoSFS(fout, nrSites, nChroms.polar, nChroms.brown)\n",
    "calcSummaryStats(simulatedSFS)\n",
    "\n",
    "# you can even plot the simulated site frequency spectrum\n",
    "plot2DSFS(simulatedSFS, xlab=\"Polar\", ylab=\"Brown\", main=\"simulated 2D-SFS\")"
   ]
  },
  {
   "cell_type": "markdown",
   "metadata": {
    "slideshow": {
     "slide_type": "subslide"
    }
   },
   "source": [
    "Based on the observed summary statistics 'fst', which measures how different\n",
    "polar and brown bears, in relation to the one calculated simulating T=2e5,\n",
    "can you make some initial (very rough) considerations on the most likely values\n",
    "of T (higher or lower than 200k years ago)?\n",
    "\n",
    "You can use the `abc` package and the `abc` function to calculate the posterior\n",
    "distribution (as well as to compute the distance between observed and expected summary statistics)."
   ]
  },
  {
   "cell_type": "code",
   "execution_count": null,
   "metadata": {
    "slideshow": {
     "slide_type": "slide"
    }
   },
   "outputs": [],
   "source": [
    "library(abc)"
   ]
  },
  {
   "cell_type": "code",
   "execution_count": null,
   "metadata": {},
   "outputs": [],
   "source": [
    "#?abc"
   ]
  },
  {
   "cell_type": "markdown",
   "metadata": {
    "slideshow": {
     "slide_type": "slide"
    }
   },
   "source": [
    "As you can see, to perform an ABC analysis you need 3 objects:\n",
    "* target: a vector of the observed summary statistics;\n",
    "* param: a vector, matrix or data frame of the simulated parameter values;\n",
    "* sumstat: a vector, matrix or data frame of the simulated summary statistics.\n",
    "\n",
    "You already have 'target' as it is the vector of observed summary statistics\n",
    "called 'obsSummaryStatistics'.\n",
    "\n",
    "You now have everything to estimate the divergence time.\n",
    "For simplicity assume that $M=0$.\n",
    "Also, you are free to choose a rejection or local-regression method, as specified in the 'abc' function.\n",
    "This is not strictly required, but if you want to explore the estimation of two parameters simultaneously, you can estimate M by defining a prior for it, draw random samples jointly of T and M, calculate summary statistics, and so on."
   ]
  },
  {
   "cell_type": "markdown",
   "metadata": {
    "slideshow": {
     "slide_type": "slide"
    }
   },
   "source": [
    "##### Hints\n",
    "\n",
    "Please consider these points carefully when completing the project.\n",
    "* Assess which summary statistics are more or less informative for the parameter estimation (e.g. after a first run of simulations with all parameters, look for correlations between the simulated parameter value and summary statistics).\n",
    "* You can also look for correlations between summary statistics and eventually use only one of the pair if two summary statistics are highly correlated. If you are a pro, you can also perform a principal component or multidimensional scaling analysis (e.g. with package 'pls') and by using each statistic's loadings, you can create novel uncorrelated summary statistics which are linear combinations of the previous ones (this part is purely suggestive).\n",
    "*  Remember to scale your simulated (jointly with the observed) summary statistics separately, so that the mean is zero and standard deviation is one.\n",
    "*  Generate a plot with the posterior distribution of the parameter of interest. You can also show the chosen prior distribution on the same plot.\n",
    "* Calculate the posterior mean, mode, median and  other notable quantities (e.g. 95% HPD interval) to summarise the posterior distribution.\n",
    "* I suggest you to use the 'abc' package in R instead of implementing methods (e.g. regression) yourself.\n",
    "* A useful diagnostic plot to show is the distribution of sampled values from the prior: do they cover the whole range of the prior (and are they distributed as expected)?"
   ]
  },
  {
   "cell_type": "code",
   "execution_count": null,
   "metadata": {
    "slideshow": {
     "slide_type": "subslide"
    }
   },
   "outputs": [],
   "source": [
    "# ..."
   ]
  }
 ],
 "metadata": {
  "celltoolbar": "Slideshow",
  "kernelspec": {
   "display_name": "R",
   "language": "R",
   "name": "ir"
  },
  "language_info": {
   "codemirror_mode": "r",
   "file_extension": ".r",
   "mimetype": "text/x-r-source",
   "name": "R",
   "pygments_lexer": "r",
   "version": "4.1.2"
  }
 },
 "nbformat": 4,
 "nbformat_minor": 4
}
