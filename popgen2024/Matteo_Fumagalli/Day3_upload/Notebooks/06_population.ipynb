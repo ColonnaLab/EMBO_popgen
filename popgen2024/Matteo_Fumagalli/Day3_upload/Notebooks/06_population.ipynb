{
 "cells": [
  {
   "cell_type": "markdown",
   "metadata": {
    "slideshow": {
     "slide_type": "slide"
    }
   },
   "source": [
    "### Population inferences from finite samples "
   ]
  },
  {
   "cell_type": "markdown",
   "metadata": {
    "slideshow": {
     "slide_type": "slide"
    }
   },
   "source": [
    "We sequenced several genomes of bears and assigned each individual genotype.\n",
    "What is the frequency of a certain allele at the population level?\n",
    "\n",
    "![](Images/BrownBear.jpg)\n",
    "\n",
    "We have only a sample of the entire population of bears but we want to make inferences at the whole population level."
   ]
  },
  {
   "cell_type": "markdown",
   "metadata": {
    "slideshow": {
     "slide_type": "slide"
    }
   },
   "source": [
    "Our sample contains information for 100 individuals with the following genotypes: 63 AA, 34 AG, 3 GG.\n",
    "A frequentist estimate of the frequency of G is given by: $(34+(3\\times2))/200=40/200=0.20$.\n",
    "\n",
    "What is the posterior distribution for the population frequency of G?"
   ]
  },
  {
   "cell_type": "markdown",
   "metadata": {
    "slideshow": {
     "slide_type": "slide"
    }
   },
   "source": [
    "The first thing we need to do is define our likelihood model.\n",
    "We can imagine to randomly sample one allele from the population and each time the allele can be either G or not.\n",
    "\n",
    "This is a set of Bernoulli trials and we can use of Binomial distribution as likelihood function."
   ]
  },
  {
   "cell_type": "markdown",
   "metadata": {
    "slideshow": {
     "slide_type": "subslide"
    }
   },
   "source": [
    "The Binomial likelihood is\n",
    "\\begin{equation}\n",
    "     P(k|p,n) = ( \\genfrac{}{}{0pt}{}{n}{k} ) p^k(1-p)^{n-k}\n",
    "\\end{equation}\n",
    "where $k$ is the number of successes (i.e. the event of sampling a G), $p$ is the proportion of $G$ alleles we have (i.e. the probability of a success), and $n$ is the number of alleles we sample.\n",
    "\n",
    "Recall that\n",
    "\\begin{equation}\n",
    "    (\\genfrac{}{}{0pt}{}{n}{k}) = \\frac{n!}{k!(n-k)!}\n",
    "\\end{equation}\n",
    "\n",
    "Note that the combinatorial term does not contain $p$."
   ]
  },
  {
   "cell_type": "markdown",
   "metadata": {
    "slideshow": {
     "slide_type": "subslide"
    }
   },
   "source": [
    "What is the maximum likelihood estimate of $p$?\n",
    "\n",
    "You may recall that it is $\\hat{p}=\\frac{k}{n}$.\n",
    "Note that the combinatorial terms does not affect this estimate."
   ]
  },
  {
   "cell_type": "markdown",
   "metadata": {
    "slideshow": {
     "slide_type": "slide"
    }
   },
   "source": [
    "The second thing we need to do is define a prior probability for $p$.\n",
    "\n",
    "What is the interval of values that $p$ can take?"
   ]
  },
  {
   "cell_type": "markdown",
   "metadata": {
    "slideshow": {
     "slide_type": "fragment"
    }
   },
   "source": [
    "It is $[0,1]$, as we express frequencies relative to the whole population/sample.\n",
    "It is convenient to choose a prior distribution which is conjugate to the Binomial.\n",
    "\n",
    "A Beta distribution is a conjugate prior in this case."
   ]
  },
  {
   "cell_type": "markdown",
   "metadata": {
    "slideshow": {
     "slide_type": "slide"
    }
   },
   "source": [
    "Are certain values of $p$ more likely to occur without observing the data?\n",
    "\n",
    "If that it is not the case, can we use the Beta distribution to generate a noninformative prior?"
   ]
  },
  {
   "cell_type": "markdown",
   "metadata": {
    "slideshow": {
     "slide_type": "fragment"
    }
   },
   "source": [
    "We can choose $Beta(\\alpha=1,\\beta=1)$, which is defined as\n",
    "\\begin{equation}\n",
    "    P(p) = \\frac{1}{B(\\alpha,\\beta)} p^{\\alpha-1}(1-p)^{\\beta-1}\n",
    "\\end{equation}\n",
    "where $\\frac{1}{B(\\alpha,\\beta)}$ is simply a normalisation term which does not depend on $p$."
   ]
  },
  {
   "cell_type": "markdown",
   "metadata": {
    "slideshow": {
     "slide_type": "slide"
    }
   },
   "source": [
    "The full model can be expressed as $P(p|k,n) \\propto P(k|p,n)P(p)$.\n",
    "\n",
    "The closed form for the posterior distribution given our choices for the likelihood and prior functions is"
   ]
  },
  {
   "cell_type": "markdown",
   "metadata": {
    "slideshow": {
     "slide_type": "subslide"
    }
   },
   "source": [
    "\\begin{equation}\n",
    "    P(p|k,n) \\propto p^{k+\\alpha-1}(1-p)^{n-k+\\beta-1}\n",
    "\\end{equation}\n",
    "\n",
    "The posterior distribution (Beta-Binomial model) is a Beta distribution with parameters $k+\\alpha$ and $n-k+\\beta$.\n",
    "\n",
    "If we set $\\alpha=\\beta=1$ then $P(p|k,n)=Beta(k+1,n-k+1)$.\n",
    "What are $k$ and $n$?"
   ]
  },
  {
   "cell_type": "markdown",
   "metadata": {
    "slideshow": {
     "slide_type": "fragment"
    }
   },
   "source": [
    "$n$ is the number of alleles we sample and $k$ is the occurence of allele $G$ in our sample."
   ]
  },
  {
   "cell_type": "markdown",
   "metadata": {
    "slideshow": {
     "slide_type": "slide"
    }
   },
   "source": [
    "__A)__ \n",
    "\n",
    "Plot the posterior probability. Then calculate the maximum a posteriori value, 95\\% credible intervals, and notable quantiles. \n",
    "\n",
    "What happens to the distribution if we have only 10 samples (with the sample allele frequency of 0.20)?"
   ]
  },
  {
   "cell_type": "code",
   "execution_count": null,
   "metadata": {
    "slideshow": {
     "slide_type": "subslide"
    }
   },
   "outputs": [],
   "source": [
    "#..."
   ]
  },
  {
   "cell_type": "markdown",
   "metadata": {
    "slideshow": {
     "slide_type": "slide"
    }
   },
   "source": [
    "We can think of a more informative prior.\n",
    "The genome-wide distribution of allele frequencies for human populations as a particular shape. This is called a site frequency spectrum (SFS) or allele frequency spectrum (AFS).\n",
    "![](Images/AFS.png)"
   ]
  },
  {
   "cell_type": "markdown",
   "metadata": {
    "slideshow": {
     "slide_type": "subslide"
    }
   },
   "source": [
    "We can have another view at it by plotting the minor allele counts (MAC) distribution.\n",
    "![](Images/MAC.png)"
   ]
  },
  {
   "cell_type": "markdown",
   "metadata": {
    "slideshow": {
     "slide_type": "subslide"
    }
   },
   "source": [
    "Does this distribution fit with a uniform prior?\n",
    "Can we use a conjugate (Beta) function to model this distribution?\n",
    "\n",
    "Also, we don't know _a priori_ whether the allele we are interested in is the minor allele.\n",
    "Therefore a prior distribution with more density at both low and high frequencies might be more appropriate."
   ]
  },
  {
   "cell_type": "markdown",
   "metadata": {
    "slideshow": {
     "slide_type": "slide"
    }
   },
   "source": [
    "__B)__\n",
    "\n",
    "Recalculate the posterior distribution of $p$ using an informative prior (make your own\n",
    "choices regarding the parameter for the Beta distribution) both in the case of 100 and 10 samples.\n",
    "\n",
    "Discuss how these results compare to the previous ones obtained in point A."
   ]
  },
  {
   "cell_type": "code",
   "execution_count": null,
   "metadata": {
    "slideshow": {
     "slide_type": "subslide"
    }
   },
   "outputs": [],
   "source": [
    "#..."
   ]
  },
  {
   "cell_type": "markdown",
   "metadata": {
    "slideshow": {
     "slide_type": "slide"
    }
   },
   "source": [
    "__C)__ (bonus)\n",
    "\n",
    "Calculate the Bayes factor for a model with $p<=0.5$ vs a model with $p>0.5$. Note that these models are equally probable a priori."
   ]
  },
  {
   "cell_type": "code",
   "execution_count": null,
   "metadata": {
    "slideshow": {
     "slide_type": "subslide"
    }
   },
   "outputs": [],
   "source": [
    "#..."
   ]
  }
 ],
 "metadata": {
  "celltoolbar": "Slideshow",
  "kernelspec": {
   "display_name": "R",
   "language": "R",
   "name": "ir"
  },
  "language_info": {
   "codemirror_mode": "r",
   "file_extension": ".r",
   "mimetype": "text/x-r-source",
   "name": "R",
   "pygments_lexer": "r",
   "version": "4.1.2"
  }
 },
 "nbformat": 4,
 "nbformat_minor": 4
}
