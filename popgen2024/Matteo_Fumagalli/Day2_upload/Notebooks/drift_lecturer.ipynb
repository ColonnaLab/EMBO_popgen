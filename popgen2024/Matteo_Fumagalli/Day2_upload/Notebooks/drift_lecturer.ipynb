{
 "cells": [
  {
   "cell_type": "markdown",
   "metadata": {},
   "source": [
    "# Expected allele frequency genetic drift"
   ]
  },
  {
   "cell_type": "markdown",
   "metadata": {},
   "source": [
    "## (1) Over one generation\n",
    "\n",
    "We assume to have 50 diploid individuals and an allele frequency of 0.50."
   ]
  },
  {
   "cell_type": "code",
   "execution_count": null,
   "metadata": {},
   "outputs": [],
   "source": [
    "N <- 50\n",
    "fA <- 0.5"
   ]
  },
  {
   "cell_type": "markdown",
   "metadata": {},
   "source": [
    "A binomial distribution models the sampling with replacement of gene copies.\n",
    "The next cells illustrate how to perform a random sampling from a binomial distribution with 2N samples and probability of \"success\" equal to $f_A$. Since we are interested in frequencies and not counts, we then divide by 2N."
   ]
  },
  {
   "cell_type": "code",
   "execution_count": null,
   "metadata": {},
   "outputs": [],
   "source": [
    "rbinom(1, 2*N, fA) / (2*N)"
   ]
  },
  {
   "cell_type": "code",
   "execution_count": null,
   "metadata": {},
   "outputs": [],
   "source": [
    "rbinom(1, 2*N, 0.53) / (2*N)"
   ]
  },
  {
   "cell_type": "code",
   "execution_count": null,
   "metadata": {},
   "outputs": [],
   "source": [
    "rbinom(1, 2*N, 0.56) / (2*N)"
   ]
  },
  {
   "cell_type": "code",
   "execution_count": null,
   "metadata": {},
   "outputs": [],
   "source": [
    "rbinom(1, 2*N, 0.67) / (2*N)"
   ]
  },
  {
   "cell_type": "markdown",
   "metadata": {},
   "source": [
    "If we assume to repeat the experiment many times and calculate the average frequency, then..."
   ]
  },
  {
   "cell_type": "code",
   "execution_count": null,
   "metadata": {
    "scrolled": true
   },
   "outputs": [],
   "source": [
    "N <- 50\n",
    "fA <- 0.5\n",
    "frequencies <- rbinom(100, 2*N, fA) / (2*N)\n",
    "print(frequencies)\n",
    "hist(frequencies)"
   ]
  },
  {
   "cell_type": "code",
   "execution_count": null,
   "metadata": {},
   "outputs": [],
   "source": [
    "mean( rbinom(100, 2*N, fA) / (2*N) )"
   ]
  },
  {
   "cell_type": "code",
   "execution_count": null,
   "metadata": {},
   "outputs": [],
   "source": [
    "mean( rbinom(1e5, 2*N, fA) / (2*N) )"
   ]
  },
  {
   "cell_type": "markdown",
   "metadata": {},
   "source": [
    "meaning that after a generation the expected allele frequency does not change."
   ]
  },
  {
   "cell_type": "markdown",
   "metadata": {},
   "source": [
    "## (2) Over many generations\n",
    "\n",
    "Scenario similar to above, but with a starting allele frequency of 0.50, 50 diploid individuals and 100 generations."
   ]
  },
  {
   "cell_type": "code",
   "execution_count": null,
   "metadata": {},
   "outputs": [],
   "source": [
    "N <- 50\n",
    "# 100 generations\n",
    "fA <- rep(NA, 100)\n",
    "# at t=0\n",
    "fA[1] <- 0.50"
   ]
  },
  {
   "cell_type": "markdown",
   "metadata": {},
   "source": [
    "We repeat the sampling procedure at each generation."
   ]
  },
  {
   "cell_type": "code",
   "execution_count": null,
   "metadata": {},
   "outputs": [],
   "source": [
    "for (t in 1:99) fA[t+1] <- rbinom(1, 2*N, fA[t]) / (2*N)"
   ]
  },
  {
   "cell_type": "code",
   "execution_count": null,
   "metadata": {},
   "outputs": [],
   "source": [
    "plot(x=1:100, y=fA, type=\"l\", ylim=c(0,1), lwd=2)"
   ]
  },
  {
   "cell_type": "markdown",
   "metadata": {},
   "source": [
    "Wasn't the expected allele frequency supposed not to change after each generation? What's happening?\n",
    "\n",
    "Let's assume that we repeat the whole history for 100 generations many times (i.e. 20) and record the trajectory of the allele frequency."
   ]
  },
  {
   "cell_type": "code",
   "execution_count": null,
   "metadata": {},
   "outputs": [],
   "source": [
    "N <- 50\n",
    "for (j in 1:20) {\n",
    "    fA <- rep(NA, 100)\n",
    "    fA[1] <- 0.5\n",
    "    for (t in 1:99) fA[t+1] <- rbinom(1, 2*N, fA[t]) / (2*N)\n",
    "    if (j==1) plot(x=1:100, y=fA, xlab=\"generations\", type=\"l\", ylim=c(0,1), col=rainbow(20)[j]) else lines(x=1:100, y=fA, col=rainbow(20)[j])\n",
    "}"
   ]
  },
  {
   "cell_type": "code",
   "execution_count": null,
   "metadata": {},
   "outputs": [],
   "source": [
    "N <- 50\n",
    "gen <- 100 # generations\n",
    "nrepl <- 20 # number of distinct simulations\n",
    "for (j in 1:nrepl) {\n",
    "    fA <- rep(NA, gen)\n",
    "    fA[1] <- 0.5\n",
    "    for (t in 1:(gen-1)) fA[t+1] <- rbinom(1, 2*N, fA[t]) / (2*N)\n",
    "    if (j==1) plot(x=1:gen, y=fA, xlab=\"generations\", type=\"l\", ylim=c(0,1), col=rainbow(nrepl)[j]) else lines(x=1:gen, y=fA, col=rainbow(nrepl)[j])\n",
    "}"
   ]
  },
  {
   "cell_type": "markdown",
   "metadata": {},
   "source": [
    "What is the chance that an allele at 50% at time 0 goes to fixation (100%) or is lost (0%)? To answer this question run the experiment above over more generations and more replicate and see what happens. Calculate the proportion of alleles that are fixed or lost at the end of your experiment. What happens if you change the initial allele frequency? Do these proportions change?"
   ]
  },
  {
   "cell_type": "code",
   "execution_count": null,
   "metadata": {},
   "outputs": [],
   "source": [
    "N <- 50\n",
    "gen <- 1000 # generations\n",
    "nrepl <- 200 # number of distinct simulations\n",
    "for (j in 1:nrepl) {\n",
    "    fA <- rep(NA, gen)\n",
    "    fA[1] <- 0.5\n",
    "    for (t in 1:(gen-1)) fA[t+1] <- rbinom(1, 2*N, fA[t]) / (2*N)\n",
    "    if (j==1) plot(x=1:gen, y=fA, xlab=\"generations\", type=\"l\", ylim=c(0,1), col=rainbow(nrepl)[j]) else lines(x=1:gen, y=fA, col=rainbow(nrepl)[j])\n",
    "}"
   ]
  },
  {
   "cell_type": "markdown",
   "metadata": {},
   "source": [
    "## (3) Effect of population size\n",
    "\n",
    "Let's consider the effect of population size on the drift process."
   ]
  },
  {
   "cell_type": "code",
   "execution_count": null,
   "metadata": {},
   "outputs": [],
   "source": [
    "# small population (blue)\n",
    "N <- 100\n",
    "for (j in 1:10) {\n",
    "    fA <- rep(NA, 100); fA[1] <- 0.5\n",
    "    for (t in 1:99) fA[t+1] <- rbinom(1, 2*N, fA[t]) / (2*N)\n",
    "    if (j==1) plot(x=1:100, y=fA, type=\"l\", ylim=c(0,1), col=\"blue\") else lines(x=1:100, y=fA, col=\"blue\")\n",
    "}\n",
    "\n",
    "# large population (red)\n",
    "N <- 1000\n",
    "for (j in 1:10) {\n",
    "    fA <- rep(NA, 100); fA[1] <- 0.5\n",
    "    for (t in 1:99) fA[t+1] <- rbinom(1, 2*N, fA[t]) / (2*N)\n",
    "    lines(x=1:100, y=fA, col=\"red\")\n",
    "}"
   ]
  },
  {
   "cell_type": "code",
   "execution_count": null,
   "metadata": {},
   "outputs": [],
   "source": [
    "rbinom(1, 20, 0.5) / 20"
   ]
  },
  {
   "cell_type": "code",
   "execution_count": null,
   "metadata": {},
   "outputs": [],
   "source": [
    "rbinom(1, 20000, 0.5) / 20000"
   ]
  }
 ],
 "metadata": {
  "kernelspec": {
   "display_name": "R",
   "language": "R",
   "name": "ir"
  },
  "language_info": {
   "codemirror_mode": "r",
   "file_extension": ".r",
   "mimetype": "text/x-r-source",
   "name": "R",
   "pygments_lexer": "r",
   "version": "4.1.2"
  }
 },
 "nbformat": 4,
 "nbformat_minor": 4
}
