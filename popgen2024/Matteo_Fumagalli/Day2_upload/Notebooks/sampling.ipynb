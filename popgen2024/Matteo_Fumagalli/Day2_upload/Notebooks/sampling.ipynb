{
 "cells": [
  {
   "cell_type": "markdown",
   "id": "981dbc87",
   "metadata": {},
   "source": [
    "# (1) Sampling with replacement\n",
    "\n",
    "Assume we have a starting frequency at 50% for \"red\" balls in an urn with \"red\" and \"blue\" balls.\n",
    "Let's investigate what happens in the frequency of red balls with we have a large urn (600 balls) or a small urn (6 balls)"
   ]
  },
  {
   "cell_type": "code",
   "execution_count": null,
   "id": "06857dc2",
   "metadata": {},
   "outputs": [],
   "source": [
    "# large urn with 600 balls, 300 red and 300 blue\n",
    "nr_large <- 600; large_urn <- c( rep(\"red\", nr_large/2), rep(\"blue\", nr_large/2) )"
   ]
  },
  {
   "cell_type": "markdown",
   "id": "df90b08b",
   "metadata": {},
   "source": [
    "What happens if I sample with replacement 600 balls to create the next \"generation\"? What is the frequency of red balls? Remember that the initial frequency is 0.50."
   ]
  },
  {
   "cell_type": "code",
   "execution_count": null,
   "id": "bf890457",
   "metadata": {},
   "outputs": [],
   "source": [
    "length(which(sample(x=large_urn, size=nr_large, replace=TRUE)==\"red\")) / nr_large"
   ]
  },
  {
   "cell_type": "markdown",
   "id": "6ac3c3bd",
   "metadata": {},
   "source": [
    "What is the __expected__ frequency? In other words, what is the average frequency if we repeat the experiment many times? "
   ]
  },
  {
   "cell_type": "code",
   "execution_count": null,
   "id": "0927ab61",
   "metadata": {},
   "outputs": [],
   "source": [
    "freq_large <- rep(NA, 1000); for (i in 1:length(freq_large)) freq_large[i] <- length(which(sample(x=large_urn, size=nr_large, replace=TRUE)==\"red\")) / nr_large;\n",
    "mean(freq_large)"
   ]
  },
  {
   "cell_type": "markdown",
   "id": "2a8a4bc5",
   "metadata": {},
   "source": [
    "Let's redo this experiment with the small urn, with only 6 balls but with still an initial frequency of 0.50 of red balls."
   ]
  },
  {
   "cell_type": "code",
   "execution_count": null,
   "id": "86954ab8",
   "metadata": {},
   "outputs": [],
   "source": [
    "# small urn with 6 balls, 3 red and 3 blue\n",
    "nr_small <- 6; small_urn <- c( rep(\"red\", nr_small/2), rep(\"blue\", nr_small/2) )"
   ]
  },
  {
   "cell_type": "markdown",
   "id": "353863ac",
   "metadata": {},
   "source": [
    "What happens if we sample with replacement 6 balls to create the next \"generation\"? What is the frequency of red balls? Remember that the initial frequency is 0.50."
   ]
  },
  {
   "cell_type": "code",
   "execution_count": null,
   "id": "7074dd29",
   "metadata": {},
   "outputs": [],
   "source": [
    "length(which(sample(x=small_urn, size=nr_small, replace=TRUE)==\"red\")) / nr_small"
   ]
  },
  {
   "cell_type": "markdown",
   "id": "359753c5",
   "metadata": {},
   "source": [
    "What is the __expected__ frequency? In other words, what is the average frequency if we repeat the experiment many times? "
   ]
  },
  {
   "cell_type": "code",
   "execution_count": null,
   "id": "f72008a4",
   "metadata": {},
   "outputs": [],
   "source": [
    "freq_small <- rep(NA, 10000); for (i in 1:length(freq_small)) freq_small[i] <- length(which(sample(x=small_urn, size=nr_small, replace=TRUE)==\"red\")) / nr_small;\n",
    "mean(freq_small)"
   ]
  },
  {
   "cell_type": "markdown",
   "id": "0b2050c2",
   "metadata": {},
   "source": [
    "Why?"
   ]
  },
  {
   "cell_type": "code",
   "execution_count": null,
   "id": "9a9bea0a",
   "metadata": {},
   "outputs": [],
   "source": [
    "var(freq_large)"
   ]
  },
  {
   "cell_type": "code",
   "execution_count": null,
   "id": "9816069f",
   "metadata": {},
   "outputs": [],
   "source": [
    "var(freq_small)"
   ]
  },
  {
   "cell_type": "markdown",
   "id": "213adea6",
   "metadata": {},
   "source": [
    "# (2) Founder effect"
   ]
  },
  {
   "cell_type": "code",
   "execution_count": null,
   "id": "fa199028",
   "metadata": {},
   "outputs": [],
   "source": [
    "# ancestors (pre-colonisation)\n",
    "ancestors <- rep(letters[1:20], sample(1:20,size=20,prob=20:1,replace=T))\n",
    "cat(\"nr of ancestors:\", length(ancestors))\n",
    "cat(\"\\nnr of distinct alleles:\", length(unique(ancestors)))\n",
    "cat(\"\\nallele counts:\"); table(ancestors)"
   ]
  },
  {
   "cell_type": "code",
   "execution_count": null,
   "id": "f50dd62b",
   "metadata": {},
   "outputs": [],
   "source": [
    "# founding event\n",
    "founders <- sample(ancestors, 20)\n",
    "cat(\"nr of founders:\", length(founders))\n",
    "cat(\"\\nnr of distinct alleles:\", length(unique(founders)))\n",
    "cat(\"\\nallele counts:\"); table(founders)"
   ]
  },
  {
   "cell_type": "code",
   "execution_count": null,
   "id": "33066b1f",
   "metadata": {},
   "outputs": [],
   "source": [
    "# descendants (after post-colonisation expansion)\n",
    "descendants <- sample(founders, length(ancestors), replace=TRUE)\n",
    "cat(\"nr of descendants:\", length(descendants))\n",
    "cat(\"\\nnr of distinct alleles:\", length(unique(descendants)))\n",
    "cat(\"\\nallele counts:\"); table(descendants)"
   ]
  },
  {
   "cell_type": "code",
   "execution_count": null,
   "id": "4bc84db0",
   "metadata": {},
   "outputs": [],
   "source": []
  }
 ],
 "metadata": {
  "kernelspec": {
   "display_name": "R",
   "language": "R",
   "name": "ir"
  },
  "language_info": {
   "codemirror_mode": "r",
   "file_extension": ".r",
   "mimetype": "text/x-r-source",
   "name": "R",
   "pygments_lexer": "r",
   "version": "4.1.2"
  }
 },
 "nbformat": 4,
 "nbformat_minor": 5
}
