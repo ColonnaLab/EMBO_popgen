{
 "cells": [
  {
   "cell_type": "markdown",
   "metadata": {},
   "source": [
    "# Expected allele frequency with genetic drift"
   ]
  },
  {
   "cell_type": "markdown",
   "metadata": {},
   "source": [
    "## (1) Over one generation\n",
    "\n",
    "We assume to have 50 diploid individuals and an allele frequency of 0.50."
   ]
  },
  {
   "cell_type": "code",
   "execution_count": null,
   "metadata": {},
   "outputs": [],
   "source": [
    "N <- 50\n",
    "fA <- 0.5"
   ]
  },
  {
   "cell_type": "markdown",
   "metadata": {},
   "source": [
    "A binomial distribution models the sampling with replacement of gene copies.\n",
    "The next cells illustrate how to perform a random sampling from a binomial distribution with 2N samples and probability of \"success\" equal to $f_A$. Since we are interested in frequencies and not counts, we then divide by 2N."
   ]
  },
  {
   "cell_type": "code",
   "execution_count": null,
   "metadata": {},
   "outputs": [],
   "source": [
    "rbinom(1, 2*N, fA) / (2*N)"
   ]
  },
  {
   "cell_type": "code",
   "execution_count": null,
   "metadata": {},
   "outputs": [],
   "source": [
    "rbinom(1, 2*N, 0.53) / (2*N)"
   ]
  },
  {
   "cell_type": "markdown",
   "metadata": {},
   "source": [
    "__EXERCISE__ How do we calculate the expected allele frequency at the next generation? We can repeat the experiment many times and calculate the average value, then...\n",
    "\n",
    "Each group could use a different initial allele frequency or sample size."
   ]
  },
  {
   "cell_type": "code",
   "execution_count": null,
   "metadata": {
    "scrolled": true
   },
   "outputs": [],
   "source": [
    "# ..."
   ]
  },
  {
   "cell_type": "code",
   "execution_count": null,
   "metadata": {},
   "outputs": [],
   "source": [
    "# ..."
   ]
  },
  {
   "cell_type": "markdown",
   "metadata": {},
   "source": [
    "What do these results suggest? Does the expected allele frequency change or not after one generation? Do allele frequencies change or not after one generation?\n",
    "\n",
    "Prove that your conclusions stay the same if you vary the initial allele frequency and/or sample size."
   ]
  },
  {
   "cell_type": "markdown",
   "metadata": {},
   "source": [
    "## (2) Over many generations\n",
    "\n",
    "Scenario similar to above, but with a starting allele frequency of 0.50, 50 diploid individuals and 100 generations."
   ]
  },
  {
   "cell_type": "code",
   "execution_count": null,
   "metadata": {},
   "outputs": [],
   "source": [
    "N <- 50\n",
    "# 100 generations\n",
    "fA <- rep(NA, 100)\n",
    "# at t=0\n",
    "fA[1] <- 0.50"
   ]
  },
  {
   "cell_type": "markdown",
   "metadata": {},
   "source": [
    "We repeat the sampling procedure at each generation."
   ]
  },
  {
   "cell_type": "code",
   "execution_count": null,
   "metadata": {},
   "outputs": [],
   "source": [
    "for (t in 1:99) fA[t+1] <- rbinom(1, 2*N, fA[t]) / (2*N)"
   ]
  },
  {
   "cell_type": "code",
   "execution_count": null,
   "metadata": {},
   "outputs": [],
   "source": [
    "plot(x=1:100, y=fA, type=\"l\", ylim=c(0,1), lwd=2)"
   ]
  },
  {
   "cell_type": "markdown",
   "metadata": {},
   "source": [
    "Wasn't the expected allele frequency supposed not to change after each generation? What's happening?\n",
    "\n",
    "Let's assume that we repeat the whole history for 100 generations many times (i.e. 20) and record the trajectory of the allele frequency."
   ]
  },
  {
   "cell_type": "code",
   "execution_count": null,
   "metadata": {},
   "outputs": [],
   "source": [
    "#N <-  # size\n",
    "#gen <-  # generations\n",
    "#nrepl <-  # number of distinct simulations\n",
    "#for (j in 1:nrepl) {\n",
    "#...\n",
    "#}"
   ]
  },
  {
   "cell_type": "markdown",
   "metadata": {},
   "source": [
    "__EXERCISE__ What is the chance that an allele at 50% at time 0 goes to fixation (100%) or is lost (0%)? To answer this question run the experiment above over more generations and more replicate and see what happens. Calculate the proportion of alleles that are fixed or lost at the end of your experiment. What happens if you change the initial allele frequency? Do these proportions change?"
   ]
  },
  {
   "cell_type": "code",
   "execution_count": null,
   "metadata": {},
   "outputs": [],
   "source": [
    "# ..."
   ]
  },
  {
   "cell_type": "markdown",
   "metadata": {},
   "source": [
    "## (3) Effect of population size\n",
    "\n",
    "Let's consider the effect of population size on the drift process.\n",
    "\n",
    "__EXERCISE__ Repeat the experiment above (2) for different population sizes. For instance, run two sets of experiments varying $N$.\n",
    "\n",
    "Which population experiences more drift?"
   ]
  },
  {
   "cell_type": "code",
   "execution_count": null,
   "metadata": {},
   "outputs": [],
   "source": [
    "# small population (blue)\n",
    "# N <- ...\n",
    "\n",
    "# large population (red)\n",
    "# N <- ...\n"
   ]
  },
  {
   "cell_type": "markdown",
   "metadata": {},
   "source": [
    "Which population experiences more drift? Change the values of population sizes and confirm that your general statement is still true."
   ]
  },
  {
   "cell_type": "code",
   "execution_count": null,
   "metadata": {},
   "outputs": [],
   "source": []
  }
 ],
 "metadata": {
  "kernelspec": {
   "display_name": "R",
   "language": "R",
   "name": "ir"
  },
  "language_info": {
   "codemirror_mode": "r",
   "file_extension": ".r",
   "mimetype": "text/x-r-source",
   "name": "R",
   "pygments_lexer": "r",
   "version": "4.1.2"
  }
 },
 "nbformat": 4,
 "nbformat_minor": 4
}
