{
 "cells": [
  {
   "cell_type": "markdown",
   "metadata": {},
   "source": [
    "## Coalescence theory\n",
    "\n",
    "### 1) Probability distribution of TMRCA with n=2 (sample size)"
   ]
  },
  {
   "cell_type": "code",
   "execution_count": null,
   "metadata": {},
   "outputs": [],
   "source": [
    "# nr of individuals in the population\n",
    "N <- 500\n",
    "# over 3000 generations\n",
    "tmrca <- seq(1,3000,10)"
   ]
  },
  {
   "cell_type": "code",
   "execution_count": null,
   "metadata": {},
   "outputs": [],
   "source": [
    "prob_tmrca <- dgeom(x=tmrca, prob=1/(2*N))"
   ]
  },
  {
   "cell_type": "code",
   "execution_count": null,
   "metadata": {},
   "outputs": [],
   "source": [
    "plot(x=tmrca, y=prob_tmrca, ylab=\"Probability\", xlab=\"Generations\")"
   ]
  },
  {
   "cell_type": "markdown",
   "metadata": {},
   "source": [
    "### 2) Probability distribution of TMRCA with n=2 and N->infinity"
   ]
  },
  {
   "cell_type": "code",
   "execution_count": null,
   "metadata": {},
   "outputs": [],
   "source": [
    "N <- 500\n",
    "tmrca <- seq(1,3000,1)/(2*N) # time is in 2N generations\n",
    "plot(x=tmrca*(2*N), y=dexp(x=tmrca, rate=1), ylab=\"Density\", xlab=\"Generations\", type=\"l\")"
   ]
  },
  {
   "cell_type": "markdown",
   "metadata": {},
   "source": [
    "### 3) Expected site frequency spectrum"
   ]
  },
  {
   "cell_type": "code",
   "execution_count": null,
   "metadata": {},
   "outputs": [],
   "source": [
    "# with 10 haploid individuals\n",
    "n <- 10\n",
    "sfs <- 1 / seq(1, n-1, 1)\n",
    "sfs <- sfs / sum(sfs)"
   ]
  },
  {
   "cell_type": "code",
   "execution_count": null,
   "metadata": {},
   "outputs": [],
   "source": [
    "barplot(sfs, ylab=\"Proportion\", names=seq(1,9,1), ylim=c(0,0.40), xlab=\"Allele frequency\")"
   ]
  },
  {
   "cell_type": "markdown",
   "metadata": {},
   "source": [
    "Which class of mutations is the most common?"
   ]
  },
  {
   "cell_type": "markdown",
   "metadata": {},
   "source": [
    "### Expected folded site frequency spectrum with n=10"
   ]
  },
  {
   "cell_type": "code",
   "execution_count": null,
   "metadata": {},
   "outputs": [],
   "source": [
    "folded_sfs  <- c(sfs[1]+sfs[9], sfs[2]+sfs[8], sfs[3]+sfs[7], sfs[4]+sfs[6], sfs[5])\n",
    "folded_sfs <- folded_sfs / sum(folded_sfs)"
   ]
  },
  {
   "cell_type": "code",
   "execution_count": null,
   "metadata": {},
   "outputs": [],
   "source": [
    " barplot(folded_sfs, ylab=\"Proportion\", names=seq(1,5,1), ylim=c(0,0.50), xlab=\"Allele frequency\")"
   ]
  },
  {
   "cell_type": "code",
   "execution_count": null,
   "metadata": {},
   "outputs": [],
   "source": []
  }
 ],
 "metadata": {
  "kernelspec": {
   "display_name": "R",
   "language": "R",
   "name": "ir"
  },
  "language_info": {
   "codemirror_mode": "r",
   "file_extension": ".r",
   "mimetype": "text/x-r-source",
   "name": "R",
   "pygments_lexer": "r",
   "version": "4.1.2"
  }
 },
 "nbformat": 4,
 "nbformat_minor": 4
}
