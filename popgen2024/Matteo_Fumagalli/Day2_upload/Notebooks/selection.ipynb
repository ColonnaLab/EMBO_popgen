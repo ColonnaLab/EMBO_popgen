{
 "cells": [
  {
   "cell_type": "markdown",
   "id": "ebc8feab",
   "metadata": {},
   "source": [
    "# Selection\n",
    "\n",
    "Let's consider the effect of selection on allele frequencies."
   ]
  },
  {
   "cell_type": "markdown",
   "id": "e3f4f321",
   "metadata": {},
   "source": [
    "## (1) Change in allele frequency"
   ]
  },
  {
   "cell_type": "code",
   "execution_count": null,
   "id": "7c45627f",
   "metadata": {},
   "outputs": [],
   "source": [
    "# changes in allele frequency\n",
    "t <- 1:100000\n",
    "f0 <- 0.01\n",
    "s <- 0.00001\n",
    "plot(f0/(f0+(1-s)^t*(1-f0)), ylab=\"frequency\", xlab=\"generations\")\n",
    "\n",
    "# exponential distribution\n",
    "lines(f0/(f0+exp(-s*t)*(1-f0)), type=\"l\", col=\"red\", lwd=2)"
   ]
  },
  {
   "cell_type": "markdown",
   "id": "caab0aa9",
   "metadata": {},
   "source": [
    "## (2) Special cases"
   ]
  },
  {
   "cell_type": "code",
   "execution_count": null,
   "id": "abd1d889",
   "metadata": {},
   "outputs": [],
   "source": [
    "## directional selection\n",
    "s <- 0.1 # selection coefficient\n",
    "\n",
    "## additive\n",
    "f <- rep(0,1000)\n",
    "f[1] <- 0.01\n",
    "for (t in 2:1000) f[t] <- f[t-1] + s*f[t-1]*(1-f[t-1])\n",
    "plot(f, type=\"l\", col=\"red\")\n",
    "legend(\"bottomright\", col=c(\"red\",\"black\",\"blue\"), legend=c(\"additive\", \"dominant\", \"recessive\"), lty=1, lwd=2)\n",
    "\n",
    "## dominant\n",
    "f <- rep(0,1000)\n",
    "f[1] <- 0.01\n",
    "for (t in 2:1000) f[t] <- f[t-1] + s*f[t-1]*(1-f[t-1])^2 / (1 - s*(1-f[t-1]^2))\n",
    "lines(f, type=\"l\", col=\"black\", lwd=2)\n",
    "\n",
    "## recessive\n",
    "f <- rep(0,1000)\n",
    "f[1] <- 0.01\n",
    "for (t in 2:1000) f[t] = f[t-1] + (s*(f[t-1])^2*(1-f[t-1])) / (1 - s*(2*f[t-1]*(1-f[t-1]) + (1-f[t-1])^2))\n",
    "lines(f, type=\"l\", col=\"blue\", lwd=2)\n"
   ]
  },
  {
   "cell_type": "markdown",
   "id": "bfba6610",
   "metadata": {},
   "source": [
    "## (3) Selection and drift"
   ]
  },
  {
   "cell_type": "code",
   "execution_count": null,
   "id": "914aea3f",
   "metadata": {},
   "outputs": [],
   "source": [
    "simulateTrajectory <- function(s, N, t=500, nrepl=100) {\n",
    "\n",
    "        cat(\"2Ns =\",2*N*s,\"\\n\")\n",
    "\n",
    "        # initialise frequencies\n",
    "        fA <- matrix(NA, nrow=nrepl, ncol=t)\n",
    "        fA[,1] <- 1/(2*N)\n",
    "\n",
    "        # viability\n",
    "        vAA <- 1\n",
    "        vAa <- 1 - s\n",
    "        vaa <- 1 - (2*s)\n",
    "\n",
    "        for (r in 1:nrepl) {\n",
    "\n",
    "                for (i in 2:t) {\n",
    "\n",
    "                        # selection\n",
    "                        fpA <- fA[r,i-1] * (2*vAA*fA[r,i-1] + (vAa*(1-fA[r,i-1]))) / (vAA*fA[r,i-1]^2 + 2*vAa*fA[r,i-1]*(1-fA[r,i-1]) + vaa*(1-fA[r,i-1])^2)\n",
    "\n",
    "                        if (fpA <= 0) { fA[r,i:t] <- 0; break} # lost\n",
    "                        if (fpA >= 1) { fA[r,i:t] <- 1; break} # fixed\n",
    "\n",
    "                        # drift\n",
    "                        fA[r,i] <- sum(sample(x=c(0,1), size=(2*N), replace=T, prob=c((1-fpA),fpA))) / (2*N)\n",
    "\n",
    "                }\n",
    "\n",
    "        }\n",
    "\n",
    "        u <- 0\n",
    "        if ((2*N*s) > -1) u <- 1/(2*N)\n",
    "        if ((2*N*s) > 1) u <- 2*s\n",
    "    \n",
    "        cat(\"Lost = \", length(which(fA[,t]==0)), \"\\n\")\n",
    "        cat(\"Fixed = \", length(which(fA[,t]==1)), \"\\t (expected = \", (u*nrepl), \")\\n\")\n",
    "    \n",
    "        return(invisible(fA));\n",
    "\n",
    "}\n"
   ]
  },
  {
   "cell_type": "code",
   "execution_count": null,
   "id": "5f8f6e9a",
   "metadata": {},
   "outputs": [],
   "source": [
    "plotTrajectory <- function(fA, ylim=c(0,1), tlim=c(1,NA)) {\n",
    "        cols <- colors()\n",
    "        if (is.na(tlim[2])) tlim <- c(1,ncol(fA))\n",
    "        plot(fA[1,],ylim=ylim,ty=\"l\",xlim=tlim,col=cols[2],xlab=\"generations\",ylab=\"frequency\",lwd=2)\n",
    "        for (i in 2:nrow(fA)) lines(fA[i,],type=\"l\",col=cols[i+1],lwd=2)\n",
    "}"
   ]
  },
  {
   "cell_type": "code",
   "execution_count": null,
   "id": "19f88c02",
   "metadata": {},
   "outputs": [],
   "source": [
    "plotTrajectory(simulateTrajectory(s=0.001, N=100, t=100, nrepl=100))"
   ]
  },
  {
   "cell_type": "code",
   "execution_count": null,
   "id": "c910dbc5",
   "metadata": {},
   "outputs": [],
   "source": [
    "# what happens if we change \"s\" and \"N\"?"
   ]
  }
 ],
 "metadata": {
  "kernelspec": {
   "display_name": "R",
   "language": "R",
   "name": "ir"
  },
  "language_info": {
   "codemirror_mode": "r",
   "file_extension": ".r",
   "mimetype": "text/x-r-source",
   "name": "R",
   "pygments_lexer": "r",
   "version": "4.1.2"
  }
 },
 "nbformat": 4,
 "nbformat_minor": 5
}
